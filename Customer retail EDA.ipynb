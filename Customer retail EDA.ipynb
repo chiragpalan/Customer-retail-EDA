{
 "cells": [
  {
   "cell_type": "code",
   "execution_count": 1,
   "id": "af51511c",
   "metadata": {},
   "outputs": [],
   "source": [
    "import pandas as pd\n",
    "import numpy as np\n",
    "import matplotlib.pyplot as plt\n",
    "%matplotlib inline\n",
    "import seaborn as sns\n",
    "import os"
   ]
  },
  {
   "cell_type": "code",
   "execution_count": 2,
   "id": "fa5a8fb4",
   "metadata": {},
   "outputs": [],
   "source": [
    "customers = pd.read_csv('Customer.csv')\n",
    "prod_info = pd.read_csv('prod_cat_info.csv')\n",
    "transection = pd.read_csv('Transactions.csv')"
   ]
  },
  {
   "cell_type": "markdown",
   "id": "d81fd6fb",
   "metadata": {},
   "source": [
    "# Exploratory data analysis"
   ]
  },
  {
   "cell_type": "code",
   "execution_count": 6,
   "id": "b8287b47",
   "metadata": {},
   "outputs": [
    {
     "name": "stdout",
     "output_type": "stream",
     "text": [
      "customers data frame has 5647 rows and 4 columns\n",
      "\n",
      "prod_info data frame has 23 rows and 4 columns\n",
      "\n",
      "transection data frame has 23053 rows and 10 columns\n"
     ]
    }
   ],
   "source": [
    "# Checking the shape of each dataset\n",
    "print(f'customers data frame has {customers.shape[0]} rows and {customers.shape[1]} columns')\n",
    "print()\n",
    "print(f'prod_info data frame has {prod_info.shape[0]} rows and {prod_info.shape[1]} columns')\n",
    "print()\n",
    "print(f'transection data frame has {transection.shape[0]} rows and {transection.shape[1]} columns')"
   ]
  },
  {
   "cell_type": "code",
   "execution_count": 7,
   "id": "d5174eef",
   "metadata": {},
   "outputs": [
    {
     "data": {
      "text/html": [
       "<div>\n",
       "<style scoped>\n",
       "    .dataframe tbody tr th:only-of-type {\n",
       "        vertical-align: middle;\n",
       "    }\n",
       "\n",
       "    .dataframe tbody tr th {\n",
       "        vertical-align: top;\n",
       "    }\n",
       "\n",
       "    .dataframe thead th {\n",
       "        text-align: right;\n",
       "    }\n",
       "</style>\n",
       "<table border=\"1\" class=\"dataframe\">\n",
       "  <thead>\n",
       "    <tr style=\"text-align: right;\">\n",
       "      <th></th>\n",
       "      <th>customer_Id</th>\n",
       "      <th>DOB</th>\n",
       "      <th>Gender</th>\n",
       "      <th>city_code</th>\n",
       "    </tr>\n",
       "  </thead>\n",
       "  <tbody>\n",
       "    <tr>\n",
       "      <th>0</th>\n",
       "      <td>268408</td>\n",
       "      <td>02-01-1970</td>\n",
       "      <td>M</td>\n",
       "      <td>4.0</td>\n",
       "    </tr>\n",
       "    <tr>\n",
       "      <th>1</th>\n",
       "      <td>269696</td>\n",
       "      <td>07-01-1970</td>\n",
       "      <td>F</td>\n",
       "      <td>8.0</td>\n",
       "    </tr>\n",
       "  </tbody>\n",
       "</table>\n",
       "</div>"
      ],
      "text/plain": [
       "   customer_Id         DOB Gender  city_code\n",
       "0       268408  02-01-1970      M        4.0\n",
       "1       269696  07-01-1970      F        8.0"
      ]
     },
     "execution_count": 7,
     "metadata": {},
     "output_type": "execute_result"
    }
   ],
   "source": [
    "customers.head(2)"
   ]
  },
  {
   "cell_type": "code",
   "execution_count": 8,
   "id": "e3d75793",
   "metadata": {},
   "outputs": [
    {
     "data": {
      "text/html": [
       "<div>\n",
       "<style scoped>\n",
       "    .dataframe tbody tr th:only-of-type {\n",
       "        vertical-align: middle;\n",
       "    }\n",
       "\n",
       "    .dataframe tbody tr th {\n",
       "        vertical-align: top;\n",
       "    }\n",
       "\n",
       "    .dataframe thead th {\n",
       "        text-align: right;\n",
       "    }\n",
       "</style>\n",
       "<table border=\"1\" class=\"dataframe\">\n",
       "  <thead>\n",
       "    <tr style=\"text-align: right;\">\n",
       "      <th></th>\n",
       "      <th>prod_cat_code</th>\n",
       "      <th>prod_cat</th>\n",
       "      <th>prod_sub_cat_code</th>\n",
       "      <th>prod_subcat</th>\n",
       "    </tr>\n",
       "  </thead>\n",
       "  <tbody>\n",
       "    <tr>\n",
       "      <th>0</th>\n",
       "      <td>1</td>\n",
       "      <td>Clothing</td>\n",
       "      <td>4</td>\n",
       "      <td>Mens</td>\n",
       "    </tr>\n",
       "    <tr>\n",
       "      <th>1</th>\n",
       "      <td>1</td>\n",
       "      <td>Clothing</td>\n",
       "      <td>1</td>\n",
       "      <td>Women</td>\n",
       "    </tr>\n",
       "  </tbody>\n",
       "</table>\n",
       "</div>"
      ],
      "text/plain": [
       "   prod_cat_code  prod_cat  prod_sub_cat_code prod_subcat\n",
       "0              1  Clothing                  4        Mens\n",
       "1              1  Clothing                  1       Women"
      ]
     },
     "execution_count": 8,
     "metadata": {},
     "output_type": "execute_result"
    }
   ],
   "source": [
    "prod_info.head(2)"
   ]
  },
  {
   "cell_type": "code",
   "execution_count": 9,
   "id": "9adf6d5e",
   "metadata": {},
   "outputs": [
    {
     "data": {
      "text/html": [
       "<div>\n",
       "<style scoped>\n",
       "    .dataframe tbody tr th:only-of-type {\n",
       "        vertical-align: middle;\n",
       "    }\n",
       "\n",
       "    .dataframe tbody tr th {\n",
       "        vertical-align: top;\n",
       "    }\n",
       "\n",
       "    .dataframe thead th {\n",
       "        text-align: right;\n",
       "    }\n",
       "</style>\n",
       "<table border=\"1\" class=\"dataframe\">\n",
       "  <thead>\n",
       "    <tr style=\"text-align: right;\">\n",
       "      <th></th>\n",
       "      <th>transaction_id</th>\n",
       "      <th>cust_id</th>\n",
       "      <th>tran_date</th>\n",
       "      <th>prod_subcat_code</th>\n",
       "      <th>prod_cat_code</th>\n",
       "      <th>Qty</th>\n",
       "      <th>Rate</th>\n",
       "      <th>Tax</th>\n",
       "      <th>total_amt</th>\n",
       "      <th>Store_type</th>\n",
       "    </tr>\n",
       "  </thead>\n",
       "  <tbody>\n",
       "    <tr>\n",
       "      <th>0</th>\n",
       "      <td>80712190438</td>\n",
       "      <td>270351</td>\n",
       "      <td>28-02-2014</td>\n",
       "      <td>1</td>\n",
       "      <td>1</td>\n",
       "      <td>-5</td>\n",
       "      <td>-772</td>\n",
       "      <td>405.300</td>\n",
       "      <td>-4265.300</td>\n",
       "      <td>e-Shop</td>\n",
       "    </tr>\n",
       "    <tr>\n",
       "      <th>1</th>\n",
       "      <td>29258453508</td>\n",
       "      <td>270384</td>\n",
       "      <td>27-02-2014</td>\n",
       "      <td>5</td>\n",
       "      <td>3</td>\n",
       "      <td>-5</td>\n",
       "      <td>-1497</td>\n",
       "      <td>785.925</td>\n",
       "      <td>-8270.925</td>\n",
       "      <td>e-Shop</td>\n",
       "    </tr>\n",
       "  </tbody>\n",
       "</table>\n",
       "</div>"
      ],
      "text/plain": [
       "   transaction_id  cust_id   tran_date  prod_subcat_code  prod_cat_code  Qty  \\\n",
       "0     80712190438   270351  28-02-2014                 1              1   -5   \n",
       "1     29258453508   270384  27-02-2014                 5              3   -5   \n",
       "\n",
       "   Rate      Tax  total_amt Store_type  \n",
       "0  -772  405.300  -4265.300     e-Shop  \n",
       "1 -1497  785.925  -8270.925     e-Shop  "
      ]
     },
     "execution_count": 9,
     "metadata": {},
     "output_type": "execute_result"
    }
   ],
   "source": [
    "transection.head(2)"
   ]
  },
  {
   "cell_type": "code",
   "execution_count": 11,
   "id": "f2787fb8",
   "metadata": {},
   "outputs": [],
   "source": [
    "# changing prod_sub_cat_code column name to prod_subcat_code in prod_info data frame\n",
    "prod_info.rename(columns = {'prod_sub_cat_code':'prod_subcat_code'}, inplace = True)"
   ]
  },
  {
   "cell_type": "code",
   "execution_count": 12,
   "id": "039c8871",
   "metadata": {},
   "outputs": [
    {
     "data": {
      "text/html": [
       "<div>\n",
       "<style scoped>\n",
       "    .dataframe tbody tr th:only-of-type {\n",
       "        vertical-align: middle;\n",
       "    }\n",
       "\n",
       "    .dataframe tbody tr th {\n",
       "        vertical-align: top;\n",
       "    }\n",
       "\n",
       "    .dataframe thead th {\n",
       "        text-align: right;\n",
       "    }\n",
       "</style>\n",
       "<table border=\"1\" class=\"dataframe\">\n",
       "  <thead>\n",
       "    <tr style=\"text-align: right;\">\n",
       "      <th></th>\n",
       "      <th>transaction_id</th>\n",
       "      <th>cust_id</th>\n",
       "      <th>tran_date</th>\n",
       "      <th>prod_subcat_code</th>\n",
       "      <th>prod_cat_code</th>\n",
       "      <th>Qty</th>\n",
       "      <th>Rate</th>\n",
       "      <th>Tax</th>\n",
       "      <th>total_amt</th>\n",
       "      <th>Store_type</th>\n",
       "    </tr>\n",
       "  </thead>\n",
       "  <tbody>\n",
       "    <tr>\n",
       "      <th>0</th>\n",
       "      <td>80712190438</td>\n",
       "      <td>270351</td>\n",
       "      <td>28-02-2014</td>\n",
       "      <td>1</td>\n",
       "      <td>1</td>\n",
       "      <td>-5</td>\n",
       "      <td>-772</td>\n",
       "      <td>405.300</td>\n",
       "      <td>-4265.300</td>\n",
       "      <td>e-Shop</td>\n",
       "    </tr>\n",
       "    <tr>\n",
       "      <th>1</th>\n",
       "      <td>29258453508</td>\n",
       "      <td>270384</td>\n",
       "      <td>27-02-2014</td>\n",
       "      <td>5</td>\n",
       "      <td>3</td>\n",
       "      <td>-5</td>\n",
       "      <td>-1497</td>\n",
       "      <td>785.925</td>\n",
       "      <td>-8270.925</td>\n",
       "      <td>e-Shop</td>\n",
       "    </tr>\n",
       "  </tbody>\n",
       "</table>\n",
       "</div>"
      ],
      "text/plain": [
       "   transaction_id  cust_id   tran_date  prod_subcat_code  prod_cat_code  Qty  \\\n",
       "0     80712190438   270351  28-02-2014                 1              1   -5   \n",
       "1     29258453508   270384  27-02-2014                 5              3   -5   \n",
       "\n",
       "   Rate      Tax  total_amt Store_type  \n",
       "0  -772  405.300  -4265.300     e-Shop  \n",
       "1 -1497  785.925  -8270.925     e-Shop  "
      ]
     },
     "execution_count": 12,
     "metadata": {},
     "output_type": "execute_result"
    }
   ],
   "source": [
    "transection.head(2)"
   ]
  },
  {
   "cell_type": "markdown",
   "id": "02217e03",
   "metadata": {},
   "source": [
    "# 1. Mearge the datasets customers,  prod_info, transection as customer_final"
   ]
  },
  {
   "cell_type": "markdown",
   "id": "251a8478",
   "metadata": {},
   "source": [
    "## Mearging `transection` and `prod_info` as `prod_concat`"
   ]
  },
  {
   "cell_type": "code",
   "execution_count": 14,
   "id": "93459085",
   "metadata": {},
   "outputs": [
    {
     "data": {
      "text/html": [
       "<div>\n",
       "<style scoped>\n",
       "    .dataframe tbody tr th:only-of-type {\n",
       "        vertical-align: middle;\n",
       "    }\n",
       "\n",
       "    .dataframe tbody tr th {\n",
       "        vertical-align: top;\n",
       "    }\n",
       "\n",
       "    .dataframe thead th {\n",
       "        text-align: right;\n",
       "    }\n",
       "</style>\n",
       "<table border=\"1\" class=\"dataframe\">\n",
       "  <thead>\n",
       "    <tr style=\"text-align: right;\">\n",
       "      <th></th>\n",
       "      <th>transaction_id</th>\n",
       "      <th>cust_id</th>\n",
       "      <th>tran_date</th>\n",
       "      <th>prod_subcat_code</th>\n",
       "      <th>prod_cat_code</th>\n",
       "      <th>Qty</th>\n",
       "      <th>Rate</th>\n",
       "      <th>Tax</th>\n",
       "      <th>total_amt</th>\n",
       "      <th>Store_type</th>\n",
       "      <th>prod_cat</th>\n",
       "      <th>prod_subcat</th>\n",
       "    </tr>\n",
       "  </thead>\n",
       "  <tbody>\n",
       "    <tr>\n",
       "      <th>0</th>\n",
       "      <td>80712190438</td>\n",
       "      <td>270351</td>\n",
       "      <td>28-02-2014</td>\n",
       "      <td>1</td>\n",
       "      <td>1</td>\n",
       "      <td>-5</td>\n",
       "      <td>-772</td>\n",
       "      <td>405.300</td>\n",
       "      <td>-4265.300</td>\n",
       "      <td>e-Shop</td>\n",
       "      <td>Clothing</td>\n",
       "      <td>Women</td>\n",
       "    </tr>\n",
       "    <tr>\n",
       "      <th>1</th>\n",
       "      <td>29258453508</td>\n",
       "      <td>270384</td>\n",
       "      <td>27-02-2014</td>\n",
       "      <td>5</td>\n",
       "      <td>3</td>\n",
       "      <td>-5</td>\n",
       "      <td>-1497</td>\n",
       "      <td>785.925</td>\n",
       "      <td>-8270.925</td>\n",
       "      <td>e-Shop</td>\n",
       "      <td>Electronics</td>\n",
       "      <td>Computers</td>\n",
       "    </tr>\n",
       "    <tr>\n",
       "      <th>2</th>\n",
       "      <td>51750724947</td>\n",
       "      <td>273420</td>\n",
       "      <td>24-02-2014</td>\n",
       "      <td>6</td>\n",
       "      <td>5</td>\n",
       "      <td>-2</td>\n",
       "      <td>-791</td>\n",
       "      <td>166.110</td>\n",
       "      <td>-1748.110</td>\n",
       "      <td>TeleShop</td>\n",
       "      <td>Books</td>\n",
       "      <td>DIY</td>\n",
       "    </tr>\n",
       "    <tr>\n",
       "      <th>3</th>\n",
       "      <td>93274880719</td>\n",
       "      <td>271509</td>\n",
       "      <td>24-02-2014</td>\n",
       "      <td>11</td>\n",
       "      <td>6</td>\n",
       "      <td>-3</td>\n",
       "      <td>-1363</td>\n",
       "      <td>429.345</td>\n",
       "      <td>-4518.345</td>\n",
       "      <td>e-Shop</td>\n",
       "      <td>Home and kitchen</td>\n",
       "      <td>Bath</td>\n",
       "    </tr>\n",
       "    <tr>\n",
       "      <th>4</th>\n",
       "      <td>51750724947</td>\n",
       "      <td>273420</td>\n",
       "      <td>23-02-2014</td>\n",
       "      <td>6</td>\n",
       "      <td>5</td>\n",
       "      <td>-2</td>\n",
       "      <td>-791</td>\n",
       "      <td>166.110</td>\n",
       "      <td>-1748.110</td>\n",
       "      <td>TeleShop</td>\n",
       "      <td>Books</td>\n",
       "      <td>DIY</td>\n",
       "    </tr>\n",
       "  </tbody>\n",
       "</table>\n",
       "</div>"
      ],
      "text/plain": [
       "   transaction_id  cust_id   tran_date  prod_subcat_code  prod_cat_code  Qty  \\\n",
       "0     80712190438   270351  28-02-2014                 1              1   -5   \n",
       "1     29258453508   270384  27-02-2014                 5              3   -5   \n",
       "2     51750724947   273420  24-02-2014                 6              5   -2   \n",
       "3     93274880719   271509  24-02-2014                11              6   -3   \n",
       "4     51750724947   273420  23-02-2014                 6              5   -2   \n",
       "\n",
       "   Rate      Tax  total_amt Store_type          prod_cat prod_subcat  \n",
       "0  -772  405.300  -4265.300     e-Shop          Clothing       Women  \n",
       "1 -1497  785.925  -8270.925     e-Shop       Electronics   Computers  \n",
       "2  -791  166.110  -1748.110   TeleShop             Books         DIY  \n",
       "3 -1363  429.345  -4518.345     e-Shop  Home and kitchen        Bath  \n",
       "4  -791  166.110  -1748.110   TeleShop             Books         DIY  "
      ]
     },
     "execution_count": 14,
     "metadata": {},
     "output_type": "execute_result"
    }
   ],
   "source": [
    "prod_concat = pd.merge(left = transection, right=prod_info, on = ['prod_cat_code', 'prod_subcat_code'], how = 'left')\n",
    "prod_concat.head()"
   ]
  },
  {
   "cell_type": "code",
   "execution_count": 15,
   "id": "2c9729ae",
   "metadata": {},
   "outputs": [
    {
     "data": {
      "text/plain": [
       "transaction_id      0\n",
       "cust_id             0\n",
       "tran_date           0\n",
       "prod_subcat_code    0\n",
       "prod_cat_code       0\n",
       "Qty                 0\n",
       "Rate                0\n",
       "Tax                 0\n",
       "total_amt           0\n",
       "Store_type          0\n",
       "prod_cat            0\n",
       "prod_subcat         0\n",
       "dtype: int64"
      ]
     },
     "execution_count": 15,
     "metadata": {},
     "output_type": "execute_result"
    }
   ],
   "source": [
    "# Checking for null values in prod_concate\n",
    "prod_concat.isnull().sum()"
   ]
  },
  {
   "cell_type": "markdown",
   "id": "89930edb",
   "metadata": {},
   "source": [
    "#### *no null values found in prod_concat*"
   ]
  },
  {
   "cell_type": "markdown",
   "id": "057a8ee7",
   "metadata": {},
   "source": [
    "### Now meargning `customers` and `prod_concat`"
   ]
  },
  {
   "cell_type": "code",
   "execution_count": 19,
   "id": "475128c8",
   "metadata": {},
   "outputs": [
    {
     "data": {
      "text/html": [
       "<div>\n",
       "<style scoped>\n",
       "    .dataframe tbody tr th:only-of-type {\n",
       "        vertical-align: middle;\n",
       "    }\n",
       "\n",
       "    .dataframe tbody tr th {\n",
       "        vertical-align: top;\n",
       "    }\n",
       "\n",
       "    .dataframe thead th {\n",
       "        text-align: right;\n",
       "    }\n",
       "</style>\n",
       "<table border=\"1\" class=\"dataframe\">\n",
       "  <thead>\n",
       "    <tr style=\"text-align: right;\">\n",
       "      <th></th>\n",
       "      <th>transaction_id</th>\n",
       "      <th>cust_id</th>\n",
       "      <th>tran_date</th>\n",
       "      <th>prod_subcat_code</th>\n",
       "      <th>prod_cat_code</th>\n",
       "      <th>Qty</th>\n",
       "      <th>Rate</th>\n",
       "      <th>Tax</th>\n",
       "      <th>total_amt</th>\n",
       "      <th>Store_type</th>\n",
       "      <th>prod_cat</th>\n",
       "      <th>prod_subcat</th>\n",
       "      <th>customer_Id</th>\n",
       "      <th>DOB</th>\n",
       "      <th>Gender</th>\n",
       "      <th>city_code</th>\n",
       "    </tr>\n",
       "  </thead>\n",
       "  <tbody>\n",
       "    <tr>\n",
       "      <th>0</th>\n",
       "      <td>80712190438</td>\n",
       "      <td>270351</td>\n",
       "      <td>28-02-2014</td>\n",
       "      <td>1</td>\n",
       "      <td>1</td>\n",
       "      <td>-5</td>\n",
       "      <td>-772</td>\n",
       "      <td>405.300</td>\n",
       "      <td>-4265.300</td>\n",
       "      <td>e-Shop</td>\n",
       "      <td>Clothing</td>\n",
       "      <td>Women</td>\n",
       "      <td>270351</td>\n",
       "      <td>26-09-1981</td>\n",
       "      <td>M</td>\n",
       "      <td>5.0</td>\n",
       "    </tr>\n",
       "    <tr>\n",
       "      <th>1</th>\n",
       "      <td>29258453508</td>\n",
       "      <td>270384</td>\n",
       "      <td>27-02-2014</td>\n",
       "      <td>5</td>\n",
       "      <td>3</td>\n",
       "      <td>-5</td>\n",
       "      <td>-1497</td>\n",
       "      <td>785.925</td>\n",
       "      <td>-8270.925</td>\n",
       "      <td>e-Shop</td>\n",
       "      <td>Electronics</td>\n",
       "      <td>Computers</td>\n",
       "      <td>270384</td>\n",
       "      <td>11-05-1973</td>\n",
       "      <td>F</td>\n",
       "      <td>8.0</td>\n",
       "    </tr>\n",
       "    <tr>\n",
       "      <th>2</th>\n",
       "      <td>51750724947</td>\n",
       "      <td>273420</td>\n",
       "      <td>24-02-2014</td>\n",
       "      <td>6</td>\n",
       "      <td>5</td>\n",
       "      <td>-2</td>\n",
       "      <td>-791</td>\n",
       "      <td>166.110</td>\n",
       "      <td>-1748.110</td>\n",
       "      <td>TeleShop</td>\n",
       "      <td>Books</td>\n",
       "      <td>DIY</td>\n",
       "      <td>273420</td>\n",
       "      <td>27-07-1992</td>\n",
       "      <td>M</td>\n",
       "      <td>8.0</td>\n",
       "    </tr>\n",
       "    <tr>\n",
       "      <th>3</th>\n",
       "      <td>93274880719</td>\n",
       "      <td>271509</td>\n",
       "      <td>24-02-2014</td>\n",
       "      <td>11</td>\n",
       "      <td>6</td>\n",
       "      <td>-3</td>\n",
       "      <td>-1363</td>\n",
       "      <td>429.345</td>\n",
       "      <td>-4518.345</td>\n",
       "      <td>e-Shop</td>\n",
       "      <td>Home and kitchen</td>\n",
       "      <td>Bath</td>\n",
       "      <td>271509</td>\n",
       "      <td>08-06-1981</td>\n",
       "      <td>M</td>\n",
       "      <td>3.0</td>\n",
       "    </tr>\n",
       "    <tr>\n",
       "      <th>4</th>\n",
       "      <td>51750724947</td>\n",
       "      <td>273420</td>\n",
       "      <td>23-02-2014</td>\n",
       "      <td>6</td>\n",
       "      <td>5</td>\n",
       "      <td>-2</td>\n",
       "      <td>-791</td>\n",
       "      <td>166.110</td>\n",
       "      <td>-1748.110</td>\n",
       "      <td>TeleShop</td>\n",
       "      <td>Books</td>\n",
       "      <td>DIY</td>\n",
       "      <td>273420</td>\n",
       "      <td>27-07-1992</td>\n",
       "      <td>M</td>\n",
       "      <td>8.0</td>\n",
       "    </tr>\n",
       "  </tbody>\n",
       "</table>\n",
       "</div>"
      ],
      "text/plain": [
       "   transaction_id  cust_id   tran_date  prod_subcat_code  prod_cat_code  Qty  \\\n",
       "0     80712190438   270351  28-02-2014                 1              1   -5   \n",
       "1     29258453508   270384  27-02-2014                 5              3   -5   \n",
       "2     51750724947   273420  24-02-2014                 6              5   -2   \n",
       "3     93274880719   271509  24-02-2014                11              6   -3   \n",
       "4     51750724947   273420  23-02-2014                 6              5   -2   \n",
       "\n",
       "   Rate      Tax  total_amt Store_type          prod_cat prod_subcat  \\\n",
       "0  -772  405.300  -4265.300     e-Shop          Clothing       Women   \n",
       "1 -1497  785.925  -8270.925     e-Shop       Electronics   Computers   \n",
       "2  -791  166.110  -1748.110   TeleShop             Books         DIY   \n",
       "3 -1363  429.345  -4518.345     e-Shop  Home and kitchen        Bath   \n",
       "4  -791  166.110  -1748.110   TeleShop             Books         DIY   \n",
       "\n",
       "   customer_Id         DOB Gender  city_code  \n",
       "0       270351  26-09-1981      M        5.0  \n",
       "1       270384  11-05-1973      F        8.0  \n",
       "2       273420  27-07-1992      M        8.0  \n",
       "3       271509  08-06-1981      M        3.0  \n",
       "4       273420  27-07-1992      M        8.0  "
      ]
     },
     "execution_count": 19,
     "metadata": {},
     "output_type": "execute_result"
    }
   ],
   "source": [
    "customer_final = pd.merge(left = prod_concat, right = customers, right_on='customer_Id', left_on='cust_id', how = 'left')\n",
    "customer_final.head()"
   ]
  },
  {
   "cell_type": "code",
   "execution_count": 21,
   "id": "1be4b704",
   "metadata": {},
   "outputs": [
    {
     "name": "stdout",
     "output_type": "stream",
     "text": [
      "Shape of the combined data frame is (23053, 16)\n",
      "\n",
      "Shape of the original data frame is (23053, 10)\n"
     ]
    }
   ],
   "source": [
    "# printing shape of the customer_final and customer data frame to check id there is loss in any row\n",
    "print(f'Shape of the combined data frame is {customer_final.shape}')\n",
    "print()\n",
    "print(f'Shape of the original data frame is {transection.shape}')"
   ]
  },
  {
   "cell_type": "code",
   "execution_count": 23,
   "id": "b2b6a0a8",
   "metadata": {},
   "outputs": [
    {
     "data": {
      "text/plain": [
       "transaction_id        int64\n",
       "cust_id               int64\n",
       "tran_date            object\n",
       "prod_subcat_code      int64\n",
       "prod_cat_code         int64\n",
       "Qty                   int64\n",
       "Rate                  int64\n",
       "Tax                 float64\n",
       "total_amt           float64\n",
       "Store_type           object\n",
       "prod_cat             object\n",
       "prod_subcat          object\n",
       "customer_Id           int64\n",
       "DOB                  object\n",
       "Gender               object\n",
       "city_code           float64\n",
       "dtype: object"
      ]
     },
     "execution_count": 23,
     "metadata": {},
     "output_type": "execute_result"
    }
   ],
   "source": [
    "# checking the dtypes of the customer_final data frame\n",
    "customer_final.dtypes"
   ]
  },
  {
   "cell_type": "markdown",
   "id": "168a8171",
   "metadata": {},
   "source": [
    "### `DOB` and `tran_date` are object data type we need to convert it into datatime dtype"
   ]
  },
  {
   "cell_type": "code",
   "execution_count": 27,
   "id": "4d2b47eb",
   "metadata": {},
   "outputs": [],
   "source": [
    "# note Y in format\n",
    "customer_final['DOB'] = pd.to_datetime(customer_final['DOB'], format = \"%d-%m-%Y\")"
   ]
  },
  {
   "cell_type": "code",
   "execution_count": 29,
   "id": "410bf39f",
   "metadata": {},
   "outputs": [],
   "source": [
    "customer_final['tran_date'] = pd.to_datetime(customer_final['tran_date'])"
   ]
  },
  {
   "cell_type": "code",
   "execution_count": 31,
   "id": "fc6b9aca",
   "metadata": {},
   "outputs": [
    {
     "data": {
      "text/plain": [
       "transaction_id               int64\n",
       "cust_id                      int64\n",
       "tran_date           datetime64[ns]\n",
       "prod_subcat_code             int64\n",
       "prod_cat_code                int64\n",
       "Qty                          int64\n",
       "Rate                         int64\n",
       "Tax                        float64\n",
       "total_amt                  float64\n",
       "Store_type                  object\n",
       "prod_cat                    object\n",
       "prod_subcat                 object\n",
       "customer_Id                  int64\n",
       "DOB                 datetime64[ns]\n",
       "Gender                      object\n",
       "city_code                  float64\n",
       "dtype: object"
      ]
     },
     "execution_count": 31,
     "metadata": {},
     "output_type": "execute_result"
    }
   ],
   "source": [
    "customer_final.dtypes"
   ]
  },
  {
   "cell_type": "code",
   "execution_count": 24,
   "id": "2d6a1ead",
   "metadata": {},
   "outputs": [
    {
     "data": {
      "text/plain": [
       "transaction_id      0\n",
       "cust_id             0\n",
       "tran_date           0\n",
       "prod_subcat_code    0\n",
       "prod_cat_code       0\n",
       "Qty                 0\n",
       "Rate                0\n",
       "Tax                 0\n",
       "total_amt           0\n",
       "Store_type          0\n",
       "prod_cat            0\n",
       "prod_subcat         0\n",
       "customer_Id         0\n",
       "DOB                 0\n",
       "Gender              9\n",
       "city_code           8\n",
       "dtype: int64"
      ]
     },
     "execution_count": 24,
     "metadata": {},
     "output_type": "execute_result"
    }
   ],
   "source": [
    "# checking for null values in customer_final data frame\n",
    "customer_final.isnull().sum()"
   ]
  },
  {
   "cell_type": "markdown",
   "id": "fc0e4f4f",
   "metadata": {},
   "source": [
    "### No null values found in `customer_final`"
   ]
  },
  {
   "cell_type": "markdown",
   "id": "70b914dc",
   "metadata": {},
   "source": [
    "## Checking for duplicate values in `customer_final`"
   ]
  },
  {
   "cell_type": "code",
   "execution_count": 33,
   "id": "3305f3b6",
   "metadata": {},
   "outputs": [
    {
     "data": {
      "text/plain": [
       "13"
      ]
     },
     "execution_count": 33,
     "metadata": {},
     "output_type": "execute_result"
    }
   ],
   "source": [
    "customer_final.duplicated().sum()"
   ]
  },
  {
   "cell_type": "code",
   "execution_count": 34,
   "id": "0dbecb6d",
   "metadata": {},
   "outputs": [],
   "source": [
    "# dropping duplicated rows\n",
    "customer_final.drop_duplicates(inplace=True)"
   ]
  },
  {
   "cell_type": "markdown",
   "id": "99bc4762",
   "metadata": {},
   "source": [
    "# 2. Preparing summary report for mearged data"
   ]
  },
  {
   "cell_type": "markdown",
   "id": "177b65fe",
   "metadata": {},
   "source": [
    "## (a) Get the column names and their data types"
   ]
  },
  {
   "cell_type": "code",
   "execution_count": 35,
   "id": "7eb2da27",
   "metadata": {},
   "outputs": [
    {
     "data": {
      "text/plain": [
       "Index(['transaction_id', 'cust_id', 'tran_date', 'prod_subcat_code',\n",
       "       'prod_cat_code', 'Qty', 'Rate', 'Tax', 'total_amt', 'Store_type',\n",
       "       'prod_cat', 'prod_subcat', 'customer_Id', 'DOB', 'Gender', 'city_code'],\n",
       "      dtype='object')"
      ]
     },
     "execution_count": 35,
     "metadata": {},
     "output_type": "execute_result"
    }
   ],
   "source": [
    "customer_final.columns"
   ]
  },
  {
   "cell_type": "code",
   "execution_count": 36,
   "id": "82bfa06d",
   "metadata": {},
   "outputs": [
    {
     "data": {
      "text/plain": [
       "transaction_id               int64\n",
       "cust_id                      int64\n",
       "tran_date           datetime64[ns]\n",
       "prod_subcat_code             int64\n",
       "prod_cat_code                int64\n",
       "Qty                          int64\n",
       "Rate                         int64\n",
       "Tax                        float64\n",
       "total_amt                  float64\n",
       "Store_type                  object\n",
       "prod_cat                    object\n",
       "prod_subcat                 object\n",
       "customer_Id                  int64\n",
       "DOB                 datetime64[ns]\n",
       "Gender                      object\n",
       "city_code                  float64\n",
       "dtype: object"
      ]
     },
     "execution_count": 36,
     "metadata": {},
     "output_type": "execute_result"
    }
   ],
   "source": [
    "customer_final.dtypes"
   ]
  },
  {
   "cell_type": "markdown",
   "id": "6802c23f",
   "metadata": {},
   "source": [
    "## (b) Top and bottom 10 customers "
   ]
  },
  {
   "cell_type": "code",
   "execution_count": 37,
   "id": "dd5cf371",
   "metadata": {},
   "outputs": [
    {
     "data": {
      "text/html": [
       "<div>\n",
       "<style scoped>\n",
       "    .dataframe tbody tr th:only-of-type {\n",
       "        vertical-align: middle;\n",
       "    }\n",
       "\n",
       "    .dataframe tbody tr th {\n",
       "        vertical-align: top;\n",
       "    }\n",
       "\n",
       "    .dataframe thead th {\n",
       "        text-align: right;\n",
       "    }\n",
       "</style>\n",
       "<table border=\"1\" class=\"dataframe\">\n",
       "  <thead>\n",
       "    <tr style=\"text-align: right;\">\n",
       "      <th></th>\n",
       "      <th>transaction_id</th>\n",
       "      <th>cust_id</th>\n",
       "      <th>tran_date</th>\n",
       "      <th>prod_subcat_code</th>\n",
       "      <th>prod_cat_code</th>\n",
       "      <th>Qty</th>\n",
       "      <th>Rate</th>\n",
       "      <th>Tax</th>\n",
       "      <th>total_amt</th>\n",
       "      <th>Store_type</th>\n",
       "      <th>prod_cat</th>\n",
       "      <th>prod_subcat</th>\n",
       "      <th>customer_Id</th>\n",
       "      <th>DOB</th>\n",
       "      <th>Gender</th>\n",
       "      <th>city_code</th>\n",
       "    </tr>\n",
       "  </thead>\n",
       "  <tbody>\n",
       "    <tr>\n",
       "      <th>0</th>\n",
       "      <td>80712190438</td>\n",
       "      <td>270351</td>\n",
       "      <td>2014-02-28</td>\n",
       "      <td>1</td>\n",
       "      <td>1</td>\n",
       "      <td>-5</td>\n",
       "      <td>-772</td>\n",
       "      <td>405.300</td>\n",
       "      <td>-4265.300</td>\n",
       "      <td>e-Shop</td>\n",
       "      <td>Clothing</td>\n",
       "      <td>Women</td>\n",
       "      <td>270351</td>\n",
       "      <td>1981-09-26</td>\n",
       "      <td>M</td>\n",
       "      <td>5.0</td>\n",
       "    </tr>\n",
       "    <tr>\n",
       "      <th>1</th>\n",
       "      <td>29258453508</td>\n",
       "      <td>270384</td>\n",
       "      <td>2014-02-27</td>\n",
       "      <td>5</td>\n",
       "      <td>3</td>\n",
       "      <td>-5</td>\n",
       "      <td>-1497</td>\n",
       "      <td>785.925</td>\n",
       "      <td>-8270.925</td>\n",
       "      <td>e-Shop</td>\n",
       "      <td>Electronics</td>\n",
       "      <td>Computers</td>\n",
       "      <td>270384</td>\n",
       "      <td>1973-05-11</td>\n",
       "      <td>F</td>\n",
       "      <td>8.0</td>\n",
       "    </tr>\n",
       "    <tr>\n",
       "      <th>2</th>\n",
       "      <td>51750724947</td>\n",
       "      <td>273420</td>\n",
       "      <td>2014-02-24</td>\n",
       "      <td>6</td>\n",
       "      <td>5</td>\n",
       "      <td>-2</td>\n",
       "      <td>-791</td>\n",
       "      <td>166.110</td>\n",
       "      <td>-1748.110</td>\n",
       "      <td>TeleShop</td>\n",
       "      <td>Books</td>\n",
       "      <td>DIY</td>\n",
       "      <td>273420</td>\n",
       "      <td>1992-07-27</td>\n",
       "      <td>M</td>\n",
       "      <td>8.0</td>\n",
       "    </tr>\n",
       "    <tr>\n",
       "      <th>3</th>\n",
       "      <td>93274880719</td>\n",
       "      <td>271509</td>\n",
       "      <td>2014-02-24</td>\n",
       "      <td>11</td>\n",
       "      <td>6</td>\n",
       "      <td>-3</td>\n",
       "      <td>-1363</td>\n",
       "      <td>429.345</td>\n",
       "      <td>-4518.345</td>\n",
       "      <td>e-Shop</td>\n",
       "      <td>Home and kitchen</td>\n",
       "      <td>Bath</td>\n",
       "      <td>271509</td>\n",
       "      <td>1981-06-08</td>\n",
       "      <td>M</td>\n",
       "      <td>3.0</td>\n",
       "    </tr>\n",
       "    <tr>\n",
       "      <th>4</th>\n",
       "      <td>51750724947</td>\n",
       "      <td>273420</td>\n",
       "      <td>2014-02-23</td>\n",
       "      <td>6</td>\n",
       "      <td>5</td>\n",
       "      <td>-2</td>\n",
       "      <td>-791</td>\n",
       "      <td>166.110</td>\n",
       "      <td>-1748.110</td>\n",
       "      <td>TeleShop</td>\n",
       "      <td>Books</td>\n",
       "      <td>DIY</td>\n",
       "      <td>273420</td>\n",
       "      <td>1992-07-27</td>\n",
       "      <td>M</td>\n",
       "      <td>8.0</td>\n",
       "    </tr>\n",
       "  </tbody>\n",
       "</table>\n",
       "</div>"
      ],
      "text/plain": [
       "   transaction_id  cust_id  tran_date  prod_subcat_code  prod_cat_code  Qty  \\\n",
       "0     80712190438   270351 2014-02-28                 1              1   -5   \n",
       "1     29258453508   270384 2014-02-27                 5              3   -5   \n",
       "2     51750724947   273420 2014-02-24                 6              5   -2   \n",
       "3     93274880719   271509 2014-02-24                11              6   -3   \n",
       "4     51750724947   273420 2014-02-23                 6              5   -2   \n",
       "\n",
       "   Rate      Tax  total_amt Store_type          prod_cat prod_subcat  \\\n",
       "0  -772  405.300  -4265.300     e-Shop          Clothing       Women   \n",
       "1 -1497  785.925  -8270.925     e-Shop       Electronics   Computers   \n",
       "2  -791  166.110  -1748.110   TeleShop             Books         DIY   \n",
       "3 -1363  429.345  -4518.345     e-Shop  Home and kitchen        Bath   \n",
       "4  -791  166.110  -1748.110   TeleShop             Books         DIY   \n",
       "\n",
       "   customer_Id        DOB Gender  city_code  \n",
       "0       270351 1981-09-26      M        5.0  \n",
       "1       270384 1973-05-11      F        8.0  \n",
       "2       273420 1992-07-27      M        8.0  \n",
       "3       271509 1981-06-08      M        3.0  \n",
       "4       273420 1992-07-27      M        8.0  "
      ]
     },
     "execution_count": 37,
     "metadata": {},
     "output_type": "execute_result"
    }
   ],
   "source": [
    "customer_final.head()"
   ]
  },
  {
   "cell_type": "code",
   "execution_count": 38,
   "id": "c1b71303",
   "metadata": {},
   "outputs": [
    {
     "data": {
      "text/html": [
       "<div>\n",
       "<style scoped>\n",
       "    .dataframe tbody tr th:only-of-type {\n",
       "        vertical-align: middle;\n",
       "    }\n",
       "\n",
       "    .dataframe tbody tr th {\n",
       "        vertical-align: top;\n",
       "    }\n",
       "\n",
       "    .dataframe thead th {\n",
       "        text-align: right;\n",
       "    }\n",
       "</style>\n",
       "<table border=\"1\" class=\"dataframe\">\n",
       "  <thead>\n",
       "    <tr style=\"text-align: right;\">\n",
       "      <th></th>\n",
       "      <th>transaction_id</th>\n",
       "      <th>cust_id</th>\n",
       "      <th>tran_date</th>\n",
       "      <th>prod_subcat_code</th>\n",
       "      <th>prod_cat_code</th>\n",
       "      <th>Qty</th>\n",
       "      <th>Rate</th>\n",
       "      <th>Tax</th>\n",
       "      <th>total_amt</th>\n",
       "      <th>Store_type</th>\n",
       "      <th>prod_cat</th>\n",
       "      <th>prod_subcat</th>\n",
       "      <th>customer_Id</th>\n",
       "      <th>DOB</th>\n",
       "      <th>Gender</th>\n",
       "      <th>city_code</th>\n",
       "    </tr>\n",
       "  </thead>\n",
       "  <tbody>\n",
       "    <tr>\n",
       "      <th>23048</th>\n",
       "      <td>94340757522</td>\n",
       "      <td>274550</td>\n",
       "      <td>2011-01-25</td>\n",
       "      <td>12</td>\n",
       "      <td>5</td>\n",
       "      <td>1</td>\n",
       "      <td>1264</td>\n",
       "      <td>132.720</td>\n",
       "      <td>1396.720</td>\n",
       "      <td>e-Shop</td>\n",
       "      <td>Books</td>\n",
       "      <td>Academic</td>\n",
       "      <td>274550</td>\n",
       "      <td>1972-02-21</td>\n",
       "      <td>M</td>\n",
       "      <td>7.0</td>\n",
       "    </tr>\n",
       "    <tr>\n",
       "      <th>23049</th>\n",
       "      <td>89780862956</td>\n",
       "      <td>270022</td>\n",
       "      <td>2011-01-25</td>\n",
       "      <td>4</td>\n",
       "      <td>1</td>\n",
       "      <td>1</td>\n",
       "      <td>677</td>\n",
       "      <td>71.085</td>\n",
       "      <td>748.085</td>\n",
       "      <td>e-Shop</td>\n",
       "      <td>Clothing</td>\n",
       "      <td>Mens</td>\n",
       "      <td>270022</td>\n",
       "      <td>1984-04-27</td>\n",
       "      <td>M</td>\n",
       "      <td>9.0</td>\n",
       "    </tr>\n",
       "    <tr>\n",
       "      <th>23050</th>\n",
       "      <td>85115299378</td>\n",
       "      <td>271020</td>\n",
       "      <td>2011-01-25</td>\n",
       "      <td>2</td>\n",
       "      <td>6</td>\n",
       "      <td>4</td>\n",
       "      <td>1052</td>\n",
       "      <td>441.840</td>\n",
       "      <td>4649.840</td>\n",
       "      <td>MBR</td>\n",
       "      <td>Home and kitchen</td>\n",
       "      <td>Furnishing</td>\n",
       "      <td>271020</td>\n",
       "      <td>1976-06-20</td>\n",
       "      <td>M</td>\n",
       "      <td>8.0</td>\n",
       "    </tr>\n",
       "    <tr>\n",
       "      <th>23051</th>\n",
       "      <td>72870271171</td>\n",
       "      <td>270911</td>\n",
       "      <td>2011-01-25</td>\n",
       "      <td>11</td>\n",
       "      <td>5</td>\n",
       "      <td>3</td>\n",
       "      <td>1142</td>\n",
       "      <td>359.730</td>\n",
       "      <td>3785.730</td>\n",
       "      <td>TeleShop</td>\n",
       "      <td>Books</td>\n",
       "      <td>Children</td>\n",
       "      <td>270911</td>\n",
       "      <td>1970-05-22</td>\n",
       "      <td>M</td>\n",
       "      <td>2.0</td>\n",
       "    </tr>\n",
       "    <tr>\n",
       "      <th>23052</th>\n",
       "      <td>77960931771</td>\n",
       "      <td>271961</td>\n",
       "      <td>2011-01-25</td>\n",
       "      <td>11</td>\n",
       "      <td>5</td>\n",
       "      <td>1</td>\n",
       "      <td>447</td>\n",
       "      <td>46.935</td>\n",
       "      <td>493.935</td>\n",
       "      <td>TeleShop</td>\n",
       "      <td>Books</td>\n",
       "      <td>Children</td>\n",
       "      <td>271961</td>\n",
       "      <td>1982-01-15</td>\n",
       "      <td>M</td>\n",
       "      <td>1.0</td>\n",
       "    </tr>\n",
       "  </tbody>\n",
       "</table>\n",
       "</div>"
      ],
      "text/plain": [
       "       transaction_id  cust_id  tran_date  prod_subcat_code  prod_cat_code  \\\n",
       "23048     94340757522   274550 2011-01-25                12              5   \n",
       "23049     89780862956   270022 2011-01-25                 4              1   \n",
       "23050     85115299378   271020 2011-01-25                 2              6   \n",
       "23051     72870271171   270911 2011-01-25                11              5   \n",
       "23052     77960931771   271961 2011-01-25                11              5   \n",
       "\n",
       "       Qty  Rate      Tax  total_amt Store_type          prod_cat prod_subcat  \\\n",
       "23048    1  1264  132.720   1396.720     e-Shop             Books    Academic   \n",
       "23049    1   677   71.085    748.085     e-Shop          Clothing        Mens   \n",
       "23050    4  1052  441.840   4649.840        MBR  Home and kitchen  Furnishing   \n",
       "23051    3  1142  359.730   3785.730   TeleShop             Books    Children   \n",
       "23052    1   447   46.935    493.935   TeleShop             Books    Children   \n",
       "\n",
       "       customer_Id        DOB Gender  city_code  \n",
       "23048       274550 1972-02-21      M        7.0  \n",
       "23049       270022 1984-04-27      M        9.0  \n",
       "23050       271020 1976-06-20      M        8.0  \n",
       "23051       270911 1970-05-22      M        2.0  \n",
       "23052       271961 1982-01-15      M        1.0  "
      ]
     },
     "execution_count": 38,
     "metadata": {},
     "output_type": "execute_result"
    }
   ],
   "source": [
    "customer_final.tail()"
   ]
  },
  {
   "cell_type": "markdown",
   "id": "d694eb36",
   "metadata": {},
   "source": [
    "## (c) Looking at 5 point summary"
   ]
  },
  {
   "cell_type": "code",
   "execution_count": 39,
   "id": "1be2d4f0",
   "metadata": {},
   "outputs": [
    {
     "data": {
      "text/html": [
       "<div>\n",
       "<style scoped>\n",
       "    .dataframe tbody tr th:only-of-type {\n",
       "        vertical-align: middle;\n",
       "    }\n",
       "\n",
       "    .dataframe tbody tr th {\n",
       "        vertical-align: top;\n",
       "    }\n",
       "\n",
       "    .dataframe thead th {\n",
       "        text-align: right;\n",
       "    }\n",
       "</style>\n",
       "<table border=\"1\" class=\"dataframe\">\n",
       "  <thead>\n",
       "    <tr style=\"text-align: right;\">\n",
       "      <th></th>\n",
       "      <th>transaction_id</th>\n",
       "      <th>cust_id</th>\n",
       "      <th>prod_subcat_code</th>\n",
       "      <th>prod_cat_code</th>\n",
       "      <th>Qty</th>\n",
       "      <th>Rate</th>\n",
       "      <th>Tax</th>\n",
       "      <th>total_amt</th>\n",
       "      <th>customer_Id</th>\n",
       "      <th>city_code</th>\n",
       "    </tr>\n",
       "  </thead>\n",
       "  <tbody>\n",
       "    <tr>\n",
       "      <th>count</th>\n",
       "      <td>2.304000e+04</td>\n",
       "      <td>23040.000000</td>\n",
       "      <td>23040.000000</td>\n",
       "      <td>23040.000000</td>\n",
       "      <td>23040.000000</td>\n",
       "      <td>23040.000000</td>\n",
       "      <td>23040.000000</td>\n",
       "      <td>23040.000000</td>\n",
       "      <td>23040.000000</td>\n",
       "      <td>23032.000000</td>\n",
       "    </tr>\n",
       "    <tr>\n",
       "      <th>mean</th>\n",
       "      <td>5.006955e+10</td>\n",
       "      <td>271021.880252</td>\n",
       "      <td>6.148785</td>\n",
       "      <td>3.763498</td>\n",
       "      <td>2.435764</td>\n",
       "      <td>637.094965</td>\n",
       "      <td>248.677488</td>\n",
       "      <td>2109.865226</td>\n",
       "      <td>271021.880252</td>\n",
       "      <td>5.483067</td>\n",
       "    </tr>\n",
       "    <tr>\n",
       "      <th>std</th>\n",
       "      <td>2.898062e+10</td>\n",
       "      <td>2431.573668</td>\n",
       "      <td>3.726197</td>\n",
       "      <td>1.677091</td>\n",
       "      <td>2.264326</td>\n",
       "      <td>621.727374</td>\n",
       "      <td>187.188311</td>\n",
       "      <td>2505.610295</td>\n",
       "      <td>2431.573668</td>\n",
       "      <td>2.863331</td>\n",
       "    </tr>\n",
       "    <tr>\n",
       "      <th>min</th>\n",
       "      <td>3.268991e+06</td>\n",
       "      <td>266783.000000</td>\n",
       "      <td>1.000000</td>\n",
       "      <td>1.000000</td>\n",
       "      <td>-5.000000</td>\n",
       "      <td>-1499.000000</td>\n",
       "      <td>7.350000</td>\n",
       "      <td>-8270.925000</td>\n",
       "      <td>266783.000000</td>\n",
       "      <td>1.000000</td>\n",
       "    </tr>\n",
       "    <tr>\n",
       "      <th>25%</th>\n",
       "      <td>2.493315e+10</td>\n",
       "      <td>268935.000000</td>\n",
       "      <td>3.000000</td>\n",
       "      <td>2.000000</td>\n",
       "      <td>1.000000</td>\n",
       "      <td>312.000000</td>\n",
       "      <td>98.280000</td>\n",
       "      <td>762.450000</td>\n",
       "      <td>268935.000000</td>\n",
       "      <td>3.000000</td>\n",
       "    </tr>\n",
       "    <tr>\n",
       "      <th>50%</th>\n",
       "      <td>5.009188e+10</td>\n",
       "      <td>270980.500000</td>\n",
       "      <td>5.000000</td>\n",
       "      <td>4.000000</td>\n",
       "      <td>3.000000</td>\n",
       "      <td>710.000000</td>\n",
       "      <td>199.080000</td>\n",
       "      <td>1756.950000</td>\n",
       "      <td>270980.500000</td>\n",
       "      <td>5.000000</td>\n",
       "    </tr>\n",
       "    <tr>\n",
       "      <th>75%</th>\n",
       "      <td>7.532632e+10</td>\n",
       "      <td>273114.250000</td>\n",
       "      <td>10.000000</td>\n",
       "      <td>5.000000</td>\n",
       "      <td>4.000000</td>\n",
       "      <td>1109.000000</td>\n",
       "      <td>365.767500</td>\n",
       "      <td>3570.255000</td>\n",
       "      <td>273114.250000</td>\n",
       "      <td>8.000000</td>\n",
       "    </tr>\n",
       "    <tr>\n",
       "      <th>max</th>\n",
       "      <td>9.998755e+10</td>\n",
       "      <td>275265.000000</td>\n",
       "      <td>12.000000</td>\n",
       "      <td>6.000000</td>\n",
       "      <td>5.000000</td>\n",
       "      <td>1500.000000</td>\n",
       "      <td>787.500000</td>\n",
       "      <td>8287.500000</td>\n",
       "      <td>275265.000000</td>\n",
       "      <td>10.000000</td>\n",
       "    </tr>\n",
       "  </tbody>\n",
       "</table>\n",
       "</div>"
      ],
      "text/plain": [
       "       transaction_id        cust_id  prod_subcat_code  prod_cat_code  \\\n",
       "count    2.304000e+04   23040.000000      23040.000000   23040.000000   \n",
       "mean     5.006955e+10  271021.880252          6.148785       3.763498   \n",
       "std      2.898062e+10    2431.573668          3.726197       1.677091   \n",
       "min      3.268991e+06  266783.000000          1.000000       1.000000   \n",
       "25%      2.493315e+10  268935.000000          3.000000       2.000000   \n",
       "50%      5.009188e+10  270980.500000          5.000000       4.000000   \n",
       "75%      7.532632e+10  273114.250000         10.000000       5.000000   \n",
       "max      9.998755e+10  275265.000000         12.000000       6.000000   \n",
       "\n",
       "                Qty          Rate           Tax     total_amt    customer_Id  \\\n",
       "count  23040.000000  23040.000000  23040.000000  23040.000000   23040.000000   \n",
       "mean       2.435764    637.094965    248.677488   2109.865226  271021.880252   \n",
       "std        2.264326    621.727374    187.188311   2505.610295    2431.573668   \n",
       "min       -5.000000  -1499.000000      7.350000  -8270.925000  266783.000000   \n",
       "25%        1.000000    312.000000     98.280000    762.450000  268935.000000   \n",
       "50%        3.000000    710.000000    199.080000   1756.950000  270980.500000   \n",
       "75%        4.000000   1109.000000    365.767500   3570.255000  273114.250000   \n",
       "max        5.000000   1500.000000    787.500000   8287.500000  275265.000000   \n",
       "\n",
       "          city_code  \n",
       "count  23032.000000  \n",
       "mean       5.483067  \n",
       "std        2.863331  \n",
       "min        1.000000  \n",
       "25%        3.000000  \n",
       "50%        5.000000  \n",
       "75%        8.000000  \n",
       "max       10.000000  "
      ]
     },
     "execution_count": 39,
     "metadata": {},
     "output_type": "execute_result"
    }
   ],
   "source": [
    "customer_final.describe()"
   ]
  },
  {
   "cell_type": "markdown",
   "id": "33b72787",
   "metadata": {},
   "source": [
    "## (d) Frequency tables for categorical variables"
   ]
  },
  {
   "cell_type": "code",
   "execution_count": 47,
   "id": "8fcf0e74",
   "metadata": {},
   "outputs": [
    {
     "data": {
      "text/html": [
       "<div>\n",
       "<style scoped>\n",
       "    .dataframe tbody tr th:only-of-type {\n",
       "        vertical-align: middle;\n",
       "    }\n",
       "\n",
       "    .dataframe tbody tr th {\n",
       "        vertical-align: top;\n",
       "    }\n",
       "\n",
       "    .dataframe thead th {\n",
       "        text-align: right;\n",
       "    }\n",
       "</style>\n",
       "<table border=\"1\" class=\"dataframe\">\n",
       "  <thead>\n",
       "    <tr style=\"text-align: right;\">\n",
       "      <th></th>\n",
       "      <th>Store_type</th>\n",
       "      <th>prod_cat</th>\n",
       "      <th>prod_subcat</th>\n",
       "      <th>Gender</th>\n",
       "    </tr>\n",
       "  </thead>\n",
       "  <tbody>\n",
       "    <tr>\n",
       "      <th>count</th>\n",
       "      <td>23040</td>\n",
       "      <td>23040</td>\n",
       "      <td>23040</td>\n",
       "      <td>23031</td>\n",
       "    </tr>\n",
       "    <tr>\n",
       "      <th>unique</th>\n",
       "      <td>4</td>\n",
       "      <td>6</td>\n",
       "      <td>18</td>\n",
       "      <td>2</td>\n",
       "    </tr>\n",
       "    <tr>\n",
       "      <th>top</th>\n",
       "      <td>e-Shop</td>\n",
       "      <td>Books</td>\n",
       "      <td>Women</td>\n",
       "      <td>M</td>\n",
       "    </tr>\n",
       "    <tr>\n",
       "      <th>freq</th>\n",
       "      <td>9304</td>\n",
       "      <td>6066</td>\n",
       "      <td>3046</td>\n",
       "      <td>11804</td>\n",
       "    </tr>\n",
       "  </tbody>\n",
       "</table>\n",
       "</div>"
      ],
      "text/plain": [
       "       Store_type prod_cat prod_subcat Gender\n",
       "count       23040    23040       23040  23031\n",
       "unique          4        6          18      2\n",
       "top        e-Shop    Books       Women      M\n",
       "freq         9304     6066        3046  11804"
      ]
     },
     "execution_count": 47,
     "metadata": {},
     "output_type": "execute_result"
    }
   ],
   "source": [
    "customer_final.loc[:, customer_final.columns[customer_final.dtypes == 'object']].describe()"
   ]
  },
  {
   "cell_type": "markdown",
   "id": "56a79e0a",
   "metadata": {},
   "source": [
    "# 3. Generating histograms foe all contineous variables and frequency bars for categorical variables"
   ]
  },
  {
   "cell_type": "markdown",
   "id": "b2ca9452",
   "metadata": {},
   "source": [
    "## (a) producing histogram"
   ]
  },
  {
   "cell_type": "code",
   "execution_count": 51,
   "id": "ae6f6833",
   "metadata": {},
   "outputs": [],
   "source": [
    "continous_vars_df = customer_final.loc[:, ['prod_subcat_code','prod_cat_code', 'Qty', 'Rate', 'Tax', 'total_amt']]"
   ]
  },
  {
   "cell_type": "code",
   "execution_count": 52,
   "id": "6e53a93f",
   "metadata": {},
   "outputs": [
    {
     "data": {
      "text/html": [
       "<div>\n",
       "<style scoped>\n",
       "    .dataframe tbody tr th:only-of-type {\n",
       "        vertical-align: middle;\n",
       "    }\n",
       "\n",
       "    .dataframe tbody tr th {\n",
       "        vertical-align: top;\n",
       "    }\n",
       "\n",
       "    .dataframe thead th {\n",
       "        text-align: right;\n",
       "    }\n",
       "</style>\n",
       "<table border=\"1\" class=\"dataframe\">\n",
       "  <thead>\n",
       "    <tr style=\"text-align: right;\">\n",
       "      <th></th>\n",
       "      <th>prod_subcat_code</th>\n",
       "      <th>prod_cat_code</th>\n",
       "      <th>Qty</th>\n",
       "      <th>Rate</th>\n",
       "      <th>Tax</th>\n",
       "      <th>total_amt</th>\n",
       "    </tr>\n",
       "  </thead>\n",
       "  <tbody>\n",
       "    <tr>\n",
       "      <th>0</th>\n",
       "      <td>1</td>\n",
       "      <td>1</td>\n",
       "      <td>-5</td>\n",
       "      <td>-772</td>\n",
       "      <td>405.300</td>\n",
       "      <td>-4265.300</td>\n",
       "    </tr>\n",
       "    <tr>\n",
       "      <th>1</th>\n",
       "      <td>5</td>\n",
       "      <td>3</td>\n",
       "      <td>-5</td>\n",
       "      <td>-1497</td>\n",
       "      <td>785.925</td>\n",
       "      <td>-8270.925</td>\n",
       "    </tr>\n",
       "    <tr>\n",
       "      <th>2</th>\n",
       "      <td>6</td>\n",
       "      <td>5</td>\n",
       "      <td>-2</td>\n",
       "      <td>-791</td>\n",
       "      <td>166.110</td>\n",
       "      <td>-1748.110</td>\n",
       "    </tr>\n",
       "    <tr>\n",
       "      <th>3</th>\n",
       "      <td>11</td>\n",
       "      <td>6</td>\n",
       "      <td>-3</td>\n",
       "      <td>-1363</td>\n",
       "      <td>429.345</td>\n",
       "      <td>-4518.345</td>\n",
       "    </tr>\n",
       "    <tr>\n",
       "      <th>4</th>\n",
       "      <td>6</td>\n",
       "      <td>5</td>\n",
       "      <td>-2</td>\n",
       "      <td>-791</td>\n",
       "      <td>166.110</td>\n",
       "      <td>-1748.110</td>\n",
       "    </tr>\n",
       "  </tbody>\n",
       "</table>\n",
       "</div>"
      ],
      "text/plain": [
       "   prod_subcat_code  prod_cat_code  Qty  Rate      Tax  total_amt\n",
       "0                 1              1   -5  -772  405.300  -4265.300\n",
       "1                 5              3   -5 -1497  785.925  -8270.925\n",
       "2                 6              5   -2  -791  166.110  -1748.110\n",
       "3                11              6   -3 -1363  429.345  -4518.345\n",
       "4                 6              5   -2  -791  166.110  -1748.110"
      ]
     },
     "execution_count": 52,
     "metadata": {},
     "output_type": "execute_result"
    }
   ],
   "source": [
    "continous_vars_df.head()"
   ]
  },
  {
   "cell_type": "code",
   "execution_count": 54,
   "id": "1ea04d11",
   "metadata": {},
   "outputs": [
    {
     "data": {
      "image/png": "[encoded data removed]",
      "text/plain": [
       "<Figure size 432x288 with 1 Axes>"
      ]
     },
     "metadata": {
      "needs_background": "light"
     },
     "output_type": "display_data"
    },
    {
     "data": {
      "image/png": "[encoded data removed]",
      "text/plain": [
       "<Figure size 432x288 with 1 Axes>"
      ]
     },
     "metadata": {
      "needs_background": "light"
     },
     "output_type": "display_data"
    },
    {
     "data": {
      "image/png": "[encoded data removed]",
      "text/plain": [
       "<Figure size 432x288 with 1 Axes>"
      ]
     },
     "metadata": {
      "needs_background": "light"
     },
     "output_type": "display_data"
    },
    {
     "data": {
      "image/png": "[encoded data removed]",
      "text/plain": [
       "<Figure size 432x288 with 1 Axes>"
      ]
     },
     "metadata": {
      "needs_background": "light"
     },
     "output_type": "display_data"
    },
    {
     "data": {
      "image/png": "[encoded data removed]",
      "text/plain": [
       "<Figure size 432x288 with 1 Axes>"
      ]
     },
     "metadata": {
      "needs_background": "light"
     },
     "output_type": "display_data"
    },
    {
     "data": {
      "image/png": "[encoded data removed]",
      "text/plain": [
       "<Figure size 432x288 with 1 Axes>"
      ]
     },
     "metadata": {
      "needs_background": "light"
     },
     "output_type": "display_data"
    }
   ],
   "source": [
    "for var  in continous_vars_df.columns:\n",
    "    continous_vars_df[var].plot(kind = 'hist')\n",
    "    plt.title(var)\n",
    "    plt.show()"
   ]
  },
  {
   "cell_type": "markdown",
   "id": "3b06cf64",
   "metadata": {},
   "source": [
    "## (b) producing bar charts"
   ]
  },
  {
   "cell_type": "code",
   "execution_count": 56,
   "id": "519f505b",
   "metadata": {},
   "outputs": [
    {
     "data": {
      "text/html": [
       "<div>\n",
       "<style scoped>\n",
       "    .dataframe tbody tr th:only-of-type {\n",
       "        vertical-align: middle;\n",
       "    }\n",
       "\n",
       "    .dataframe tbody tr th {\n",
       "        vertical-align: top;\n",
       "    }\n",
       "\n",
       "    .dataframe thead th {\n",
       "        text-align: right;\n",
       "    }\n",
       "</style>\n",
       "<table border=\"1\" class=\"dataframe\">\n",
       "  <thead>\n",
       "    <tr style=\"text-align: right;\">\n",
       "      <th></th>\n",
       "      <th>Store_type</th>\n",
       "      <th>prod_cat</th>\n",
       "      <th>prod_subcat</th>\n",
       "      <th>Gender</th>\n",
       "    </tr>\n",
       "  </thead>\n",
       "  <tbody>\n",
       "    <tr>\n",
       "      <th>0</th>\n",
       "      <td>e-Shop</td>\n",
       "      <td>Clothing</td>\n",
       "      <td>Women</td>\n",
       "      <td>M</td>\n",
       "    </tr>\n",
       "    <tr>\n",
       "      <th>1</th>\n",
       "      <td>e-Shop</td>\n",
       "      <td>Electronics</td>\n",
       "      <td>Computers</td>\n",
       "      <td>F</td>\n",
       "    </tr>\n",
       "    <tr>\n",
       "      <th>2</th>\n",
       "      <td>TeleShop</td>\n",
       "      <td>Books</td>\n",
       "      <td>DIY</td>\n",
       "      <td>M</td>\n",
       "    </tr>\n",
       "    <tr>\n",
       "      <th>3</th>\n",
       "      <td>e-Shop</td>\n",
       "      <td>Home and kitchen</td>\n",
       "      <td>Bath</td>\n",
       "      <td>M</td>\n",
       "    </tr>\n",
       "    <tr>\n",
       "      <th>4</th>\n",
       "      <td>TeleShop</td>\n",
       "      <td>Books</td>\n",
       "      <td>DIY</td>\n",
       "      <td>M</td>\n",
       "    </tr>\n",
       "  </tbody>\n",
       "</table>\n",
       "</div>"
      ],
      "text/plain": [
       "  Store_type          prod_cat prod_subcat Gender\n",
       "0     e-Shop          Clothing       Women      M\n",
       "1     e-Shop       Electronics   Computers      F\n",
       "2   TeleShop             Books         DIY      M\n",
       "3     e-Shop  Home and kitchen        Bath      M\n",
       "4   TeleShop             Books         DIY      M"
      ]
     },
     "execution_count": 56,
     "metadata": {},
     "output_type": "execute_result"
    }
   ],
   "source": [
    "categorical_var_df = customer_final.loc[:, customer_final.dtypes == 'object']\n",
    "categorical_var_df.head()"
   ]
  },
  {
   "cell_type": "code",
   "execution_count": 77,
   "id": "f032740b",
   "metadata": {},
   "outputs": [
    {
     "name": "stderr",
     "output_type": "stream",
     "text": [
      "C:\\Users\\welcome\\anaconda3\\lib\\site-packages\\seaborn\\_decorators.py:36: FutureWarning: Pass the following variable as a keyword arg: x. From version 0.12, the only valid positional argument will be `data`, and passing other arguments without an explicit keyword will result in an error or misinterpretation.\n",
      "  warnings.warn(\n"
     ]
    },
    {
     "data": {
      "text/plain": [
       "<AxesSubplot:xlabel='Gender', ylabel='count'>"
      ]
     },
     "execution_count": 77,
     "metadata": {},
     "output_type": "execute_result"
    },
    {
     "data": {
      "image/png": "[encoded data removed]",
      "text/plain": [
       "<Figure size 576x576 with 1 Axes>"
      ]
     },
     "metadata": {
      "needs_background": "light"
     },
     "output_type": "display_data"
    }
   ],
   "source": [
    "# ploting gender wise customers\n",
    "plt.figure(figsize=(8, 8))\n",
    "sns.countplot(categorical_var_df['Gender'])"
   ]
  },
  {
   "cell_type": "markdown",
   "id": "0381d0a0",
   "metadata": {},
   "source": [
    "#### There is almost equal numbers of male and female customers"
   ]
  },
  {
   "cell_type": "code",
   "execution_count": 79,
   "id": "efe017c9",
   "metadata": {},
   "outputs": [
    {
     "name": "stderr",
     "output_type": "stream",
     "text": [
      "C:\\Users\\welcome\\anaconda3\\lib\\site-packages\\seaborn\\_decorators.py:36: FutureWarning: Pass the following variable as a keyword arg: x. From version 0.12, the only valid positional argument will be `data`, and passing other arguments without an explicit keyword will result in an error or misinterpretation.\n",
      "  warnings.warn(\n"
     ]
    },
    {
     "data": {
      "text/plain": [
       "<AxesSubplot:xlabel='Store_type', ylabel='count'>"
      ]
     },
     "execution_count": 79,
     "metadata": {},
     "output_type": "execute_result"
    },
    {
     "data": {
      "image/png": "[encoded data removed]",
      "text/plain": [
       "<Figure size 576x576 with 1 Axes>"
      ]
     },
     "metadata": {
      "needs_background": "light"
     },
     "output_type": "display_data"
    }
   ],
   "source": [
    "# Ploting store wise customers\n",
    "plt.figure(figsize=(8, 8))\n",
    "sns.countplot(categorical_var_df['Store_type'])"
   ]
  },
  {
   "cell_type": "markdown",
   "id": "d4a12b00",
   "metadata": {},
   "source": [
    "#### e-Shop store has significantly more numbers of customers as compared  to other stores"
   ]
  },
  {
   "cell_type": "code",
   "execution_count": 80,
   "id": "063c8ec5",
   "metadata": {},
   "outputs": [
    {
     "name": "stderr",
     "output_type": "stream",
     "text": [
      "C:\\Users\\welcome\\anaconda3\\lib\\site-packages\\seaborn\\_decorators.py:36: FutureWarning: Pass the following variable as a keyword arg: x. From version 0.12, the only valid positional argument will be `data`, and passing other arguments without an explicit keyword will result in an error or misinterpretation.\n",
      "  warnings.warn(\n"
     ]
    },
    {
     "data": {
      "text/plain": [
       "<AxesSubplot:xlabel='prod_cat', ylabel='count'>"
      ]
     },
     "execution_count": 80,
     "metadata": {},
     "output_type": "execute_result"
    },
    {
     "data": {
      "image/png": "[encoded data removed]",
      "text/plain": [
       "<Figure size 576x576 with 1 Axes>"
      ]
     },
     "metadata": {
      "needs_background": "light"
     },
     "output_type": "display_data"
    }
   ],
   "source": [
    "# Ploting categoru wise customers\n",
    "plt.figure(figsize=(8, 8))\n",
    "sns.countplot(categorical_var_df['prod_cat'])"
   ]
  },
  {
   "cell_type": "markdown",
   "id": "09d3a1c6",
   "metadata": {},
   "source": [
    "#### Books category has largest numbers of cuatomers as comapred to others category"
   ]
  },
  {
   "cell_type": "code",
   "execution_count": 85,
   "id": "0eadf0a1",
   "metadata": {},
   "outputs": [
    {
     "name": "stderr",
     "output_type": "stream",
     "text": [
      "C:\\Users\\welcome\\anaconda3\\lib\\site-packages\\seaborn\\_decorators.py:36: FutureWarning: Pass the following variable as a keyword arg: x. From version 0.12, the only valid positional argument will be `data`, and passing other arguments without an explicit keyword will result in an error or misinterpretation.\n",
      "  warnings.warn(\n"
     ]
    },
    {
     "data": {
      "image/png": "[encoded data removed]",
      "text/plain": [
       "<Figure size 432x288 with 1 Axes>"
      ]
     },
     "metadata": {
      "needs_background": "light"
     },
     "output_type": "display_data"
    }
   ],
   "source": [
    "# ploting numbers of customers sub category wise\n",
    "sns.countplot(categorical_var_df['prod_subcat'])\n",
    "plt.xticks(rotation = 90);"
   ]
  },
  {
   "cell_type": "markdown",
   "id": "8ef8581e",
   "metadata": {},
   "source": [
    "# 4. Looking at few business problems"
   ]
  },
  {
   "cell_type": "markdown",
   "id": "9328431f",
   "metadata": {},
   "source": [
    "## (a) Time period of the transection data"
   ]
  },
  {
   "cell_type": "code",
   "execution_count": 93,
   "id": "3e78dddd",
   "metadata": {},
   "outputs": [
    {
     "name": "stdout",
     "output_type": "stream",
     "text": [
      "2014-12-02 00:00:00\n",
      "2011-01-02 00:00:00\n",
      "Time period available for the transection data is 1430 days 00:00:00\n"
     ]
    }
   ],
   "source": [
    "max_date = customer_final.sort_values('tran_date')['tran_date'].iloc[-1]\n",
    "print(max_date)\n",
    "min_date = customer_final.sort_values('tran_date')['tran_date'].iloc[0]\n",
    "print(min_date)\n",
    "print(f'Time period available for the transection data is {max_date - min_date}')"
   ]
  },
  {
   "cell_type": "markdown",
   "id": "5a04d99c",
   "metadata": {},
   "source": [
    "## (b) Count of the transection where the total amount of tranction was negative"
   ]
  },
  {
   "cell_type": "code",
   "execution_count": 106,
   "id": "89edd3ef",
   "metadata": {},
   "outputs": [
    {
     "name": "stdout",
     "output_type": "stream",
     "text": [
      "There are 2164 negative transaction\n"
     ]
    }
   ],
   "source": [
    "num_negative_transection = customer_final[customer_final['total_amt'] < 0][\"transaction_id\"].count()\n",
    "print(f\"There are {num_negative_transection} negative transaction\")"
   ]
  },
  {
   "cell_type": "markdown",
   "id": "ddda8d37",
   "metadata": {},
   "source": [
    "## (c) Analyze which product categories are more popular among female vs male customers"
   ]
  },
  {
   "cell_type": "code",
   "execution_count": 114,
   "id": "82f483b3",
   "metadata": {},
   "outputs": [
    {
     "data": {
      "text/html": [
       "<div>\n",
       "<style scoped>\n",
       "    .dataframe tbody tr th:only-of-type {\n",
       "        vertical-align: middle;\n",
       "    }\n",
       "\n",
       "    .dataframe tbody tr th {\n",
       "        vertical-align: top;\n",
       "    }\n",
       "\n",
       "    .dataframe thead th {\n",
       "        text-align: right;\n",
       "    }\n",
       "</style>\n",
       "<table border=\"1\" class=\"dataframe\">\n",
       "  <thead>\n",
       "    <tr style=\"text-align: right;\">\n",
       "      <th></th>\n",
       "      <th>Gender</th>\n",
       "      <th>prod_cat</th>\n",
       "      <th>Qty</th>\n",
       "    </tr>\n",
       "  </thead>\n",
       "  <tbody>\n",
       "    <tr>\n",
       "      <th>0</th>\n",
       "      <td>F</td>\n",
       "      <td>Bags</td>\n",
       "      <td>2364</td>\n",
       "    </tr>\n",
       "    <tr>\n",
       "      <th>1</th>\n",
       "      <td>F</td>\n",
       "      <td>Books</td>\n",
       "      <td>7080</td>\n",
       "    </tr>\n",
       "    <tr>\n",
       "      <th>2</th>\n",
       "      <td>F</td>\n",
       "      <td>Clothing</td>\n",
       "      <td>3425</td>\n",
       "    </tr>\n",
       "    <tr>\n",
       "      <th>3</th>\n",
       "      <td>F</td>\n",
       "      <td>Electronics</td>\n",
       "      <td>5832</td>\n",
       "    </tr>\n",
       "    <tr>\n",
       "      <th>4</th>\n",
       "      <td>F</td>\n",
       "      <td>Footwear</td>\n",
       "      <td>3721</td>\n",
       "    </tr>\n",
       "    <tr>\n",
       "      <th>5</th>\n",
       "      <td>F</td>\n",
       "      <td>Home and kitchen</td>\n",
       "      <td>4898</td>\n",
       "    </tr>\n",
       "    <tr>\n",
       "      <th>6</th>\n",
       "      <td>M</td>\n",
       "      <td>Bags</td>\n",
       "      <td>2346</td>\n",
       "    </tr>\n",
       "    <tr>\n",
       "      <th>7</th>\n",
       "      <td>M</td>\n",
       "      <td>Books</td>\n",
       "      <td>7587</td>\n",
       "    </tr>\n",
       "    <tr>\n",
       "      <th>8</th>\n",
       "      <td>M</td>\n",
       "      <td>Clothing</td>\n",
       "      <td>3748</td>\n",
       "    </tr>\n",
       "    <tr>\n",
       "      <th>9</th>\n",
       "      <td>M</td>\n",
       "      <td>Electronics</td>\n",
       "      <td>6486</td>\n",
       "    </tr>\n",
       "    <tr>\n",
       "      <th>10</th>\n",
       "      <td>M</td>\n",
       "      <td>Footwear</td>\n",
       "      <td>3561</td>\n",
       "    </tr>\n",
       "    <tr>\n",
       "      <th>11</th>\n",
       "      <td>M</td>\n",
       "      <td>Home and kitchen</td>\n",
       "      <td>5051</td>\n",
       "    </tr>\n",
       "  </tbody>\n",
       "</table>\n",
       "</div>"
      ],
      "text/plain": [
       "   Gender          prod_cat   Qty\n",
       "0       F              Bags  2364\n",
       "1       F             Books  7080\n",
       "2       F          Clothing  3425\n",
       "3       F       Electronics  5832\n",
       "4       F          Footwear  3721\n",
       "5       F  Home and kitchen  4898\n",
       "6       M              Bags  2346\n",
       "7       M             Books  7587\n",
       "8       M          Clothing  3748\n",
       "9       M       Electronics  6486\n",
       "10      M          Footwear  3561\n",
       "11      M  Home and kitchen  5051"
      ]
     },
     "execution_count": 114,
     "metadata": {},
     "output_type": "execute_result"
    }
   ],
   "source": [
    "product_cat_by_gender = customer_final.groupby(['Gender', 'prod_cat'])['Qty'].sum().reset_index()\n",
    "product_cat_by_gender"
   ]
  },
  {
   "cell_type": "code",
   "execution_count": 117,
   "id": "4c9f335b",
   "metadata": {},
   "outputs": [
    {
     "data": {
      "text/html": [
       "<div>\n",
       "<style scoped>\n",
       "    .dataframe tbody tr th:only-of-type {\n",
       "        vertical-align: middle;\n",
       "    }\n",
       "\n",
       "    .dataframe tbody tr th {\n",
       "        vertical-align: top;\n",
       "    }\n",
       "\n",
       "    .dataframe thead th {\n",
       "        text-align: right;\n",
       "    }\n",
       "</style>\n",
       "<table border=\"1\" class=\"dataframe\">\n",
       "  <thead>\n",
       "    <tr style=\"text-align: right;\">\n",
       "      <th>prod_cat</th>\n",
       "      <th>Bags</th>\n",
       "      <th>Books</th>\n",
       "      <th>Clothing</th>\n",
       "      <th>Electronics</th>\n",
       "      <th>Footwear</th>\n",
       "      <th>Home and kitchen</th>\n",
       "    </tr>\n",
       "    <tr>\n",
       "      <th>Gender</th>\n",
       "      <th></th>\n",
       "      <th></th>\n",
       "      <th></th>\n",
       "      <th></th>\n",
       "      <th></th>\n",
       "      <th></th>\n",
       "    </tr>\n",
       "  </thead>\n",
       "  <tbody>\n",
       "    <tr>\n",
       "      <th>F</th>\n",
       "      <td>2364</td>\n",
       "      <td>7080</td>\n",
       "      <td>3425</td>\n",
       "      <td>5832</td>\n",
       "      <td>3721</td>\n",
       "      <td>4898</td>\n",
       "    </tr>\n",
       "    <tr>\n",
       "      <th>M</th>\n",
       "      <td>2346</td>\n",
       "      <td>7587</td>\n",
       "      <td>3748</td>\n",
       "      <td>6486</td>\n",
       "      <td>3561</td>\n",
       "      <td>5051</td>\n",
       "    </tr>\n",
       "  </tbody>\n",
       "</table>\n",
       "</div>"
      ],
      "text/plain": [
       "prod_cat  Bags  Books  Clothing  Electronics  Footwear  Home and kitchen\n",
       "Gender                                                                  \n",
       "F         2364   7080      3425         5832      3721              4898\n",
       "M         2346   7587      3748         6486      3561              5051"
      ]
     },
     "execution_count": 117,
     "metadata": {},
     "output_type": "execute_result"
    }
   ],
   "source": [
    "# creating pivot table of the product_cat_by_gender dataframe\n",
    "product_cat_by_gender.pivot_table(index='Gender', columns='prod_cat', values = 'Qty')"
   ]
  },
  {
   "cell_type": "markdown",
   "id": "b563d25b",
   "metadata": {},
   "source": [
    "#### Male and Female customers are buying more from Books, Electronics and home and kitchen category \n"
   ]
  },
  {
   "cell_type": "markdown",
   "id": "f13777b3",
   "metadata": {},
   "source": [
    "## (d) Which city has maximmum numbers of customers ans what is the percentage of customer from that city?"
   ]
  },
  {
   "cell_type": "code",
   "execution_count": 121,
   "id": "18fbed0c",
   "metadata": {},
   "outputs": [
    {
     "data": {
      "text/plain": [
       "city_code\n",
       "4.0     2422\n",
       "3.0     2410\n",
       "5.0     2357\n",
       "7.0     2356\n",
       "10.0    2333\n",
       "8.0     2328\n",
       "2.0     2268\n",
       "1.0     2255\n",
       "9.0     2176\n",
       "6.0     2127\n",
       "Name: customer_Id, dtype: int64"
      ]
     },
     "execution_count": 121,
     "metadata": {},
     "output_type": "execute_result"
    }
   ],
   "source": [
    "customers_by_city = customer_final.groupby('city_code')['customer_Id'].count().sort_values(ascending = False)\n",
    "customers_by_city"
   ]
  },
  {
   "cell_type": "markdown",
   "id": "35d742d0",
   "metadata": {},
   "source": [
    "#### City with city code 4.0 has more numbers of customers"
   ]
  },
  {
   "cell_type": "code",
   "execution_count": 128,
   "id": "5681b4d2",
   "metadata": {},
   "outputs": [
    {
     "name": "stdout",
     "output_type": "stream",
     "text": [
      "There are 10.52% of customers from 4.0 city\n"
     ]
    }
   ],
   "source": [
    "# finding the percentage of customers from city 4.0\n",
    "percentage = customers_by_city.iloc[0] / customers_by_city.sum()\n",
    "print(f'There are {round(percentage*100, 2)}% of customers from {4.0} city')"
   ]
  },
  {
   "cell_type": "markdown",
   "id": "c7efb6b1",
   "metadata": {},
   "source": [
    "## (e) Which store type sells the maximum products by value and by quantity?"
   ]
  },
  {
   "cell_type": "code",
   "execution_count": 132,
   "id": "664b3557",
   "metadata": {},
   "outputs": [
    {
     "data": {
      "text/html": [
       "<div>\n",
       "<style scoped>\n",
       "    .dataframe tbody tr th:only-of-type {\n",
       "        vertical-align: middle;\n",
       "    }\n",
       "\n",
       "    .dataframe tbody tr th {\n",
       "        vertical-align: top;\n",
       "    }\n",
       "\n",
       "    .dataframe thead th {\n",
       "        text-align: right;\n",
       "    }\n",
       "</style>\n",
       "<table border=\"1\" class=\"dataframe\">\n",
       "  <thead>\n",
       "    <tr style=\"text-align: right;\">\n",
       "      <th></th>\n",
       "      <th>Rate</th>\n",
       "      <th>Qty</th>\n",
       "    </tr>\n",
       "    <tr>\n",
       "      <th>Store_type</th>\n",
       "      <th></th>\n",
       "      <th></th>\n",
       "    </tr>\n",
       "  </thead>\n",
       "  <tbody>\n",
       "    <tr>\n",
       "      <th>e-Shop</th>\n",
       "      <td>5945770</td>\n",
       "      <td>22790</td>\n",
       "    </tr>\n",
       "    <tr>\n",
       "      <th>MBR</th>\n",
       "      <td>2953665</td>\n",
       "      <td>11195</td>\n",
       "    </tr>\n",
       "    <tr>\n",
       "      <th>Flagship store</th>\n",
       "      <td>2942874</td>\n",
       "      <td>11142</td>\n",
       "    </tr>\n",
       "    <tr>\n",
       "      <th>TeleShop</th>\n",
       "      <td>2836359</td>\n",
       "      <td>10993</td>\n",
       "    </tr>\n",
       "  </tbody>\n",
       "</table>\n",
       "</div>"
      ],
      "text/plain": [
       "                   Rate    Qty\n",
       "Store_type                    \n",
       "e-Shop          5945770  22790\n",
       "MBR             2953665  11195\n",
       "Flagship store  2942874  11142\n",
       "TeleShop        2836359  10993"
      ]
     },
     "execution_count": 132,
     "metadata": {},
     "output_type": "execute_result"
    }
   ],
   "source": [
    "customer_final.groupby(['Store_type'])[['Rate', 'Qty']].sum().sort_values(by = 'Qty', ascending = False)"
   ]
  },
  {
   "cell_type": "markdown",
   "id": "e632726a",
   "metadata": {},
   "source": [
    "#### e-Shop type store sells maximum products by quantity and by amount"
   ]
  },
  {
   "cell_type": "markdown",
   "id": "b479b7c7",
   "metadata": {},
   "source": [
    "## (f) What was the total amount earned from the `Electronics` and  `Clothing` categories from `Flagship` Stores?"
   ]
  },
  {
   "cell_type": "code",
   "execution_count": 135,
   "id": "f5169ac7",
   "metadata": {},
   "outputs": [
    {
     "data": {
      "text/html": [
       "<div>\n",
       "<style scoped>\n",
       "    .dataframe tbody tr th:only-of-type {\n",
       "        vertical-align: middle;\n",
       "    }\n",
       "\n",
       "    .dataframe tbody tr th {\n",
       "        vertical-align: top;\n",
       "    }\n",
       "\n",
       "    .dataframe thead th {\n",
       "        text-align: right;\n",
       "    }\n",
       "</style>\n",
       "<table border=\"1\" class=\"dataframe\">\n",
       "  <thead>\n",
       "    <tr style=\"text-align: right;\">\n",
       "      <th></th>\n",
       "      <th>transaction_id</th>\n",
       "      <th>cust_id</th>\n",
       "      <th>tran_date</th>\n",
       "      <th>prod_subcat_code</th>\n",
       "      <th>prod_cat_code</th>\n",
       "      <th>Qty</th>\n",
       "      <th>Rate</th>\n",
       "      <th>Tax</th>\n",
       "      <th>total_amt</th>\n",
       "      <th>Store_type</th>\n",
       "      <th>prod_cat</th>\n",
       "      <th>prod_subcat</th>\n",
       "      <th>customer_Id</th>\n",
       "      <th>DOB</th>\n",
       "      <th>Gender</th>\n",
       "      <th>city_code</th>\n",
       "    </tr>\n",
       "  </thead>\n",
       "  <tbody>\n",
       "    <tr>\n",
       "      <th>17</th>\n",
       "      <td>25963520987</td>\n",
       "      <td>274829</td>\n",
       "      <td>2014-02-20</td>\n",
       "      <td>4</td>\n",
       "      <td>4</td>\n",
       "      <td>3</td>\n",
       "      <td>502</td>\n",
       "      <td>158.130</td>\n",
       "      <td>1664.130</td>\n",
       "      <td>Flagship store</td>\n",
       "      <td>Bags</td>\n",
       "      <td>Women</td>\n",
       "      <td>274829</td>\n",
       "      <td>1984-09-05</td>\n",
       "      <td>F</td>\n",
       "      <td>2.0</td>\n",
       "    </tr>\n",
       "    <tr>\n",
       "      <th>29</th>\n",
       "      <td>99581788104</td>\n",
       "      <td>267466</td>\n",
       "      <td>2014-02-20</td>\n",
       "      <td>3</td>\n",
       "      <td>2</td>\n",
       "      <td>1</td>\n",
       "      <td>96</td>\n",
       "      <td>10.080</td>\n",
       "      <td>106.080</td>\n",
       "      <td>Flagship store</td>\n",
       "      <td>Footwear</td>\n",
       "      <td>Women</td>\n",
       "      <td>267466</td>\n",
       "      <td>1987-08-06</td>\n",
       "      <td>F</td>\n",
       "      <td>7.0</td>\n",
       "    </tr>\n",
       "    <tr>\n",
       "      <th>39</th>\n",
       "      <td>63407734630</td>\n",
       "      <td>271322</td>\n",
       "      <td>2014-02-19</td>\n",
       "      <td>3</td>\n",
       "      <td>2</td>\n",
       "      <td>5</td>\n",
       "      <td>1360</td>\n",
       "      <td>714.000</td>\n",
       "      <td>7514.000</td>\n",
       "      <td>Flagship store</td>\n",
       "      <td>Footwear</td>\n",
       "      <td>Women</td>\n",
       "      <td>271322</td>\n",
       "      <td>1979-11-27</td>\n",
       "      <td>F</td>\n",
       "      <td>7.0</td>\n",
       "    </tr>\n",
       "    <tr>\n",
       "      <th>41</th>\n",
       "      <td>82750983847</td>\n",
       "      <td>267544</td>\n",
       "      <td>2014-02-19</td>\n",
       "      <td>3</td>\n",
       "      <td>5</td>\n",
       "      <td>1</td>\n",
       "      <td>805</td>\n",
       "      <td>84.525</td>\n",
       "      <td>889.525</td>\n",
       "      <td>Flagship store</td>\n",
       "      <td>Books</td>\n",
       "      <td>Comics</td>\n",
       "      <td>267544</td>\n",
       "      <td>1984-10-12</td>\n",
       "      <td>M</td>\n",
       "      <td>7.0</td>\n",
       "    </tr>\n",
       "    <tr>\n",
       "      <th>42</th>\n",
       "      <td>67328698675</td>\n",
       "      <td>268755</td>\n",
       "      <td>2014-02-19</td>\n",
       "      <td>3</td>\n",
       "      <td>2</td>\n",
       "      <td>1</td>\n",
       "      <td>1018</td>\n",
       "      <td>106.890</td>\n",
       "      <td>1124.890</td>\n",
       "      <td>Flagship store</td>\n",
       "      <td>Footwear</td>\n",
       "      <td>Women</td>\n",
       "      <td>268755</td>\n",
       "      <td>1984-07-15</td>\n",
       "      <td>F</td>\n",
       "      <td>8.0</td>\n",
       "    </tr>\n",
       "  </tbody>\n",
       "</table>\n",
       "</div>"
      ],
      "text/plain": [
       "    transaction_id  cust_id  tran_date  prod_subcat_code  prod_cat_code  Qty  \\\n",
       "17     25963520987   274829 2014-02-20                 4              4    3   \n",
       "29     99581788104   267466 2014-02-20                 3              2    1   \n",
       "39     63407734630   271322 2014-02-19                 3              2    5   \n",
       "41     82750983847   267544 2014-02-19                 3              5    1   \n",
       "42     67328698675   268755 2014-02-19                 3              2    1   \n",
       "\n",
       "    Rate      Tax  total_amt      Store_type  prod_cat prod_subcat  \\\n",
       "17   502  158.130   1664.130  Flagship store      Bags       Women   \n",
       "29    96   10.080    106.080  Flagship store  Footwear       Women   \n",
       "39  1360  714.000   7514.000  Flagship store  Footwear       Women   \n",
       "41   805   84.525    889.525  Flagship store     Books      Comics   \n",
       "42  1018  106.890   1124.890  Flagship store  Footwear       Women   \n",
       "\n",
       "    customer_Id        DOB Gender  city_code  \n",
       "17       274829 1984-09-05      F        2.0  \n",
       "29       267466 1987-08-06      F        7.0  \n",
       "39       271322 1979-11-27      F        7.0  \n",
       "41       267544 1984-10-12      M        7.0  \n",
       "42       268755 1984-07-15      F        8.0  "
      ]
     },
     "execution_count": 135,
     "metadata": {},
     "output_type": "execute_result"
    }
   ],
   "source": [
    "flag_ship_stores = customer_final[customer_final['Store_type'] == 'Flagship store']\n",
    "flag_ship_stores.head()"
   ]
  },
  {
   "cell_type": "code",
   "execution_count": 146,
   "id": "6dc7540c",
   "metadata": {},
   "outputs": [
    {
     "name": "stdout",
     "output_type": "stream",
     "text": [
      "The amount earned by flagship store from electronics and cloting is 2215136.04 and 1194423.23 rupee\n"
     ]
    }
   ],
   "source": [
    "# sales by prod_cat by flagship stores\n",
    "df = flag_ship_stores.groupby('prod_cat')['total_amt'].sum()\n",
    "print(f\"The amount earned by flagship store from electronics and cloting is {df['Electronics']} and {df['Clothing']} rupee\")"
   ]
  },
  {
   "cell_type": "markdown",
   "id": "dccb5e8c",
   "metadata": {},
   "source": [
    "## (g) What was the total amount earned from male customers under the electronics category"
   ]
  },
  {
   "cell_type": "code",
   "execution_count": 159,
   "id": "abf47bc5",
   "metadata": {},
   "outputs": [
    {
     "name": "stdout",
     "output_type": "stream",
     "text": [
      "5711351.62 earned from male customes by selling electronics product\n"
     ]
    }
   ],
   "source": [
    "df = customer_final.groupby(['Gender', 'prod_cat'])['total_amt'].sum().reset_index()\n",
    "value = pd.pivot_table(df, index = 'Gender', columns='prod_cat', values = 'total_amt').loc['M', 'Electronics']\n",
    "print(f'{round(value, 2)} earned from male customes by selling electronics product')"
   ]
  },
  {
   "cell_type": "markdown",
   "id": "a7f2b7ff",
   "metadata": {},
   "source": [
    "## (h) How many customers have more than 10 unique transections, after removing all trnasections which have any negative amounts?"
   ]
  },
  {
   "cell_type": "code",
   "execution_count": 167,
   "id": "fde6680d",
   "metadata": {},
   "outputs": [
    {
     "data": {
      "text/html": [
       "<div>\n",
       "<style scoped>\n",
       "    .dataframe tbody tr th:only-of-type {\n",
       "        vertical-align: middle;\n",
       "    }\n",
       "\n",
       "    .dataframe tbody tr th {\n",
       "        vertical-align: top;\n",
       "    }\n",
       "\n",
       "    .dataframe thead th {\n",
       "        text-align: right;\n",
       "    }\n",
       "</style>\n",
       "<table border=\"1\" class=\"dataframe\">\n",
       "  <thead>\n",
       "    <tr style=\"text-align: right;\">\n",
       "      <th></th>\n",
       "      <th>customer_Id</th>\n",
       "      <th>prod_cat</th>\n",
       "      <th>prod_subcat</th>\n",
       "      <th>transaction_id</th>\n",
       "    </tr>\n",
       "  </thead>\n",
       "  <tbody>\n",
       "    <tr>\n",
       "      <th>0</th>\n",
       "      <td>266783</td>\n",
       "      <td>Books</td>\n",
       "      <td>Non-Fiction</td>\n",
       "      <td>1</td>\n",
       "    </tr>\n",
       "    <tr>\n",
       "      <th>1</th>\n",
       "      <td>266783</td>\n",
       "      <td>Clothing</td>\n",
       "      <td>Mens</td>\n",
       "      <td>2</td>\n",
       "    </tr>\n",
       "    <tr>\n",
       "      <th>2</th>\n",
       "      <td>266783</td>\n",
       "      <td>Footwear</td>\n",
       "      <td>Mens</td>\n",
       "      <td>1</td>\n",
       "    </tr>\n",
       "    <tr>\n",
       "      <th>3</th>\n",
       "      <td>266784</td>\n",
       "      <td>Books</td>\n",
       "      <td>Fiction</td>\n",
       "      <td>1</td>\n",
       "    </tr>\n",
       "    <tr>\n",
       "      <th>4</th>\n",
       "      <td>266784</td>\n",
       "      <td>Books</td>\n",
       "      <td>Non-Fiction</td>\n",
       "      <td>1</td>\n",
       "    </tr>\n",
       "  </tbody>\n",
       "</table>\n",
       "</div>"
      ],
      "text/plain": [
       "   customer_Id  prod_cat  prod_subcat  transaction_id\n",
       "0       266783     Books  Non-Fiction               1\n",
       "1       266783  Clothing         Mens               2\n",
       "2       266783  Footwear         Mens               1\n",
       "3       266784     Books      Fiction               1\n",
       "4       266784     Books  Non-Fiction               1"
      ]
     },
     "execution_count": 167,
     "metadata": {},
     "output_type": "execute_result"
    }
   ],
   "source": [
    "positive_transections = customer_final[customer_final['total_amt'] > 0]\n",
    "unique_transaction = positive_transections.groupby(['customer_Id', 'prod_cat', 'prod_subcat'])['transaction_id'].count().reset_index()\n",
    "unique_transaction.head()"
   ]
  },
  {
   "cell_type": "code",
   "execution_count": 168,
   "id": "cea2cfde",
   "metadata": {},
   "outputs": [
    {
     "data": {
      "text/html": [
       "<div>\n",
       "<style scoped>\n",
       "    .dataframe tbody tr th:only-of-type {\n",
       "        vertical-align: middle;\n",
       "    }\n",
       "\n",
       "    .dataframe tbody tr th {\n",
       "        vertical-align: top;\n",
       "    }\n",
       "\n",
       "    .dataframe thead th {\n",
       "        text-align: right;\n",
       "    }\n",
       "</style>\n",
       "<table border=\"1\" class=\"dataframe\">\n",
       "  <thead>\n",
       "    <tr style=\"text-align: right;\">\n",
       "      <th></th>\n",
       "      <th>customer_Id</th>\n",
       "      <th>transaction_id</th>\n",
       "    </tr>\n",
       "  </thead>\n",
       "  <tbody>\n",
       "    <tr>\n",
       "      <th>0</th>\n",
       "      <td>266783</td>\n",
       "      <td>3</td>\n",
       "    </tr>\n",
       "    <tr>\n",
       "      <th>1</th>\n",
       "      <td>266784</td>\n",
       "      <td>3</td>\n",
       "    </tr>\n",
       "    <tr>\n",
       "      <th>2</th>\n",
       "      <td>266785</td>\n",
       "      <td>5</td>\n",
       "    </tr>\n",
       "    <tr>\n",
       "      <th>3</th>\n",
       "      <td>266788</td>\n",
       "      <td>4</td>\n",
       "    </tr>\n",
       "    <tr>\n",
       "      <th>4</th>\n",
       "      <td>266794</td>\n",
       "      <td>8</td>\n",
       "    </tr>\n",
       "    <tr>\n",
       "      <th>...</th>\n",
       "      <td>...</td>\n",
       "      <td>...</td>\n",
       "    </tr>\n",
       "    <tr>\n",
       "      <th>5501</th>\n",
       "      <td>275257</td>\n",
       "      <td>4</td>\n",
       "    </tr>\n",
       "    <tr>\n",
       "      <th>5502</th>\n",
       "      <td>275261</td>\n",
       "      <td>3</td>\n",
       "    </tr>\n",
       "    <tr>\n",
       "      <th>5503</th>\n",
       "      <td>275262</td>\n",
       "      <td>2</td>\n",
       "    </tr>\n",
       "    <tr>\n",
       "      <th>5504</th>\n",
       "      <td>275264</td>\n",
       "      <td>2</td>\n",
       "    </tr>\n",
       "    <tr>\n",
       "      <th>5505</th>\n",
       "      <td>275265</td>\n",
       "      <td>3</td>\n",
       "    </tr>\n",
       "  </tbody>\n",
       "</table>\n",
       "<p>5506 rows × 2 columns</p>\n",
       "</div>"
      ],
      "text/plain": [
       "      customer_Id  transaction_id\n",
       "0          266783               3\n",
       "1          266784               3\n",
       "2          266785               5\n",
       "3          266788               4\n",
       "4          266794               8\n",
       "...           ...             ...\n",
       "5501       275257               4\n",
       "5502       275261               3\n",
       "5503       275262               2\n",
       "5504       275264               2\n",
       "5505       275265               3\n",
       "\n",
       "[5506 rows x 2 columns]"
      ]
     },
     "execution_count": 168,
     "metadata": {},
     "output_type": "execute_result"
    }
   ],
   "source": [
    "unique_transaction.groupby('customer_Id')['transaction_id'].count().reset_index()"
   ]
  },
  {
   "cell_type": "code",
   "execution_count": 171,
   "id": "9a0dae17",
   "metadata": {},
   "outputs": [
    {
     "data": {
      "text/html": [
       "<div>\n",
       "<style scoped>\n",
       "    .dataframe tbody tr th:only-of-type {\n",
       "        vertical-align: middle;\n",
       "    }\n",
       "\n",
       "    .dataframe tbody tr th {\n",
       "        vertical-align: top;\n",
       "    }\n",
       "\n",
       "    .dataframe thead th {\n",
       "        text-align: right;\n",
       "    }\n",
       "</style>\n",
       "<table border=\"1\" class=\"dataframe\">\n",
       "  <thead>\n",
       "    <tr style=\"text-align: right;\">\n",
       "      <th></th>\n",
       "      <th>customer_Id</th>\n",
       "      <th>transaction_id</th>\n",
       "    </tr>\n",
       "  </thead>\n",
       "  <tbody>\n",
       "  </tbody>\n",
       "</table>\n",
       "</div>"
      ],
      "text/plain": [
       "Empty DataFrame\n",
       "Columns: [customer_Id, transaction_id]\n",
       "Index: []"
      ]
     },
     "execution_count": 171,
     "metadata": {},
     "output_type": "execute_result"
    }
   ],
   "source": [
    "# transections with transection id more than 10\n",
    "df = unique_transaction.groupby('customer_Id')['transaction_id'].count().reset_index()\n",
    "df[df['transaction_id'] > 10]"
   ]
  },
  {
   "cell_type": "markdown",
   "id": "206ce37b",
   "metadata": {},
   "source": [
    "#### No customers with more than 10 unique transactions"
   ]
  },
  {
   "cell_type": "markdown",
   "id": "a1bee69e",
   "metadata": {},
   "source": [
    "## (i) For all customers between 35 - 45, find the following"
   ]
  },
  {
   "cell_type": "markdown",
   "id": "5f52f83e",
   "metadata": {},
   "source": [
    "### i - (1) What is the total amount spent for `Electronics` and `Books` product categories?"
   ]
  },
  {
   "cell_type": "code",
   "execution_count": 186,
   "id": "5917426e",
   "metadata": {},
   "outputs": [
    {
     "data": {
      "text/plain": [
       "2022"
      ]
     },
     "execution_count": 186,
     "metadata": {},
     "output_type": "execute_result"
    }
   ],
   "source": [
    "# Looking at current time and date\n",
    "now = pd.Timestamp('now')\n",
    "now.year"
   ]
  },
  {
   "cell_type": "code",
   "execution_count": 190,
   "id": "df186b0a",
   "metadata": {},
   "outputs": [
    {
     "data": {
      "text/plain": [
       "Timestamp('2022-07-18 10:45:49.477386')"
      ]
     },
     "execution_count": 190,
     "metadata": {},
     "output_type": "execute_result"
    }
   ],
   "source": [
    "pd.Timestamp('now')"
   ]
  },
  {
   "cell_type": "code",
   "execution_count": 217,
   "id": "ffb64dc7",
   "metadata": {},
   "outputs": [
    {
     "data": {
      "text/plain": [
       "0        1981\n",
       "1        1973\n",
       "2        1992\n",
       "3        1981\n",
       "4        1992\n",
       "         ... \n",
       "23048    1972\n",
       "23049    1984\n",
       "23050    1976\n",
       "23051    1970\n",
       "23052    1982\n",
       "Name: year_of_birth, Length: 23040, dtype: int64"
      ]
     },
     "execution_count": 217,
     "metadata": {},
     "output_type": "execute_result"
    }
   ],
   "source": [
    "customer_final['year_of_birth'] = customer_final['DOB'].apply(lambda x: x.year)\n",
    "customer_final['year_of_birth']"
   ]
  },
  {
   "cell_type": "code",
   "execution_count": 224,
   "id": "5bcbb2d1",
   "metadata": {},
   "outputs": [
    {
     "data": {
      "text/plain": [
       "0    41\n",
       "1    49\n",
       "2    30\n",
       "3    41\n",
       "4    30\n",
       "Name: age, dtype: int64"
      ]
     },
     "execution_count": 224,
     "metadata": {},
     "output_type": "execute_result"
    }
   ],
   "source": [
    "customer_final['age'] = pd.Timestamp('now').year - customer_final['year_of_birth'] \n",
    "customer_final['age'].head()"
   ]
  },
  {
   "cell_type": "code",
   "execution_count": 228,
   "id": "d70eca28",
   "metadata": {},
   "outputs": [],
   "source": [
    "# Data frame with customers with age between 35 and 45\n",
    "df = customer_final[(customer_final['age'] > 35) & (customer_final['age'] < 45)]\n"
   ]
  },
  {
   "cell_type": "code",
   "execution_count": 233,
   "id": "1e215dfc",
   "metadata": {},
   "outputs": [
    {
     "data": {
      "text/plain": [
       "prod_cat\n",
       "Books          4991613.185\n",
       "Electronics    4119142.755\n",
       "Name: total_amt, dtype: float64"
      ]
     },
     "execution_count": 233,
     "metadata": {},
     "output_type": "execute_result"
    }
   ],
   "source": [
    "df.groupby(['prod_cat'])['total_amt'].sum().loc[['Books', 'Electronics']]"
   ]
  },
  {
   "cell_type": "markdown",
   "id": "0bc06def",
   "metadata": {},
   "source": [
    "### i - (2) What was total amount spent by these customers between 1st Jan 2014 to 1st Mar 2014"
   ]
  },
  {
   "cell_type": "code",
   "execution_count": 242,
   "id": "5d001e58",
   "metadata": {},
   "outputs": [
    {
     "name": "stdout",
     "output_type": "stream",
     "text": [
      "totla amount spent by customers betwrrn 01-01-2014 and 01-03-2014 is \n",
      " 826244.9650000001\n"
     ]
    }
   ],
   "source": [
    "# Sorting values based on tran_date\n",
    "df = customer_final.sort_values(by = 'tran_date')\n",
    "t = df[(df['tran_date'] > '2014-01-01') & (df['tran_date'] > '2014-03-01')]['total_amt']\n",
    "print('totla amount spent by customers betwrrn 01-01-2014 and 01-03-2014 is \\n', t.sum())"
   ]
  },
  {
   "cell_type": "code",
   "execution_count": null,
   "id": "d52b2d50",
   "metadata": {},
   "outputs": [],
   "source": []
  }
 ],
 "metadata": {
  "kernelspec": {
   "display_name": "Python 3 (ipykernel)",
   "language": "python",
   "name": "python3"
  },
  "language_info": {
   "codemirror_mode": {
    "name": "ipython",
    "version": 3
   },
   "file_extension": ".py",
   "mimetype": "text/x-python",
   "name": "python",
   "nbconvert_exporter": "python",
   "pygments_lexer": "ipython3",
   "version": "3.9.7"
  }
 },
 "nbformat": 4,
 "nbformat_minor": 5
}
